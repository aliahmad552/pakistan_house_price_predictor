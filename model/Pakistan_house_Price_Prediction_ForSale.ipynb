{
 "cells": [
  {
   "cell_type": "code",
   "execution_count": 1,
   "id": "9d08014f-4aa5-489a-a2e3-653363cff016",
   "metadata": {},
   "outputs": [],
   "source": [
    "import pandas as pd\n",
    "import numpy as np"
   ]
  },
  {
   "cell_type": "code",
   "execution_count": 2,
   "id": "fd0c25ef-e13c-47e0-bac6-4d77560794e6",
   "metadata": {},
   "outputs": [],
   "source": [
    "df = pd.read_csv(\"house_prices.csv\")"
   ]
  },
  {
   "cell_type": "code",
   "execution_count": 3,
   "id": "8fc48e3a-d907-42bb-b506-606207356710",
   "metadata": {},
   "outputs": [
    {
     "data": {
      "text/html": [
       "<div>\n",
       "<style scoped>\n",
       "    .dataframe tbody tr th:only-of-type {\n",
       "        vertical-align: middle;\n",
       "    }\n",
       "\n",
       "    .dataframe tbody tr th {\n",
       "        vertical-align: top;\n",
       "    }\n",
       "\n",
       "    .dataframe thead th {\n",
       "        text-align: right;\n",
       "    }\n",
       "</style>\n",
       "<table border=\"1\" class=\"dataframe\">\n",
       "  <thead>\n",
       "    <tr style=\"text-align: right;\">\n",
       "      <th></th>\n",
       "      <th>Unnamed: 0</th>\n",
       "      <th>property_type</th>\n",
       "      <th>price</th>\n",
       "      <th>location</th>\n",
       "      <th>city</th>\n",
       "      <th>baths</th>\n",
       "      <th>purpose</th>\n",
       "      <th>bedrooms</th>\n",
       "      <th>Area_in_Marla</th>\n",
       "    </tr>\n",
       "  </thead>\n",
       "  <tbody>\n",
       "    <tr>\n",
       "      <th>0</th>\n",
       "      <td>0</td>\n",
       "      <td>Flat</td>\n",
       "      <td>10000000</td>\n",
       "      <td>G-10</td>\n",
       "      <td>Islamabad</td>\n",
       "      <td>2</td>\n",
       "      <td>For Sale</td>\n",
       "      <td>2</td>\n",
       "      <td>4.0</td>\n",
       "    </tr>\n",
       "    <tr>\n",
       "      <th>1</th>\n",
       "      <td>1</td>\n",
       "      <td>Flat</td>\n",
       "      <td>6900000</td>\n",
       "      <td>E-11</td>\n",
       "      <td>Islamabad</td>\n",
       "      <td>3</td>\n",
       "      <td>For Sale</td>\n",
       "      <td>3</td>\n",
       "      <td>5.6</td>\n",
       "    </tr>\n",
       "    <tr>\n",
       "      <th>2</th>\n",
       "      <td>2</td>\n",
       "      <td>House</td>\n",
       "      <td>16500000</td>\n",
       "      <td>G-15</td>\n",
       "      <td>Islamabad</td>\n",
       "      <td>6</td>\n",
       "      <td>For Sale</td>\n",
       "      <td>5</td>\n",
       "      <td>8.0</td>\n",
       "    </tr>\n",
       "    <tr>\n",
       "      <th>3</th>\n",
       "      <td>3</td>\n",
       "      <td>House</td>\n",
       "      <td>43500000</td>\n",
       "      <td>Bani Gala</td>\n",
       "      <td>Islamabad</td>\n",
       "      <td>4</td>\n",
       "      <td>For Sale</td>\n",
       "      <td>4</td>\n",
       "      <td>40.0</td>\n",
       "    </tr>\n",
       "    <tr>\n",
       "      <th>4</th>\n",
       "      <td>4</td>\n",
       "      <td>House</td>\n",
       "      <td>7000000</td>\n",
       "      <td>DHA Defence</td>\n",
       "      <td>Islamabad</td>\n",
       "      <td>3</td>\n",
       "      <td>For Sale</td>\n",
       "      <td>3</td>\n",
       "      <td>8.0</td>\n",
       "    </tr>\n",
       "  </tbody>\n",
       "</table>\n",
       "</div>"
      ],
      "text/plain": [
       "   Unnamed: 0 property_type     price     location       city  baths  \\\n",
       "0           0          Flat  10000000         G-10  Islamabad      2   \n",
       "1           1          Flat   6900000         E-11  Islamabad      3   \n",
       "2           2         House  16500000         G-15  Islamabad      6   \n",
       "3           3         House  43500000    Bani Gala  Islamabad      4   \n",
       "4           4         House   7000000  DHA Defence  Islamabad      3   \n",
       "\n",
       "    purpose  bedrooms  Area_in_Marla  \n",
       "0  For Sale         2            4.0  \n",
       "1  For Sale         3            5.6  \n",
       "2  For Sale         5            8.0  \n",
       "3  For Sale         4           40.0  \n",
       "4  For Sale         3            8.0  "
      ]
     },
     "execution_count": 3,
     "metadata": {},
     "output_type": "execute_result"
    }
   ],
   "source": [
    "df.head()"
   ]
  },
  {
   "cell_type": "code",
   "execution_count": 4,
   "id": "e631672b-e975-4e61-ac29-6b9b3d21d6c0",
   "metadata": {},
   "outputs": [],
   "source": [
    "df.drop(columns = ['Unnamed: 0'],inplace = True)"
   ]
  },
  {
   "cell_type": "code",
   "execution_count": 5,
   "id": "ca1fa799-0c06-45bc-a1d2-9af7fecd466b",
   "metadata": {},
   "outputs": [
    {
     "data": {
      "text/html": [
       "<div>\n",
       "<style scoped>\n",
       "    .dataframe tbody tr th:only-of-type {\n",
       "        vertical-align: middle;\n",
       "    }\n",
       "\n",
       "    .dataframe tbody tr th {\n",
       "        vertical-align: top;\n",
       "    }\n",
       "\n",
       "    .dataframe thead th {\n",
       "        text-align: right;\n",
       "    }\n",
       "</style>\n",
       "<table border=\"1\" class=\"dataframe\">\n",
       "  <thead>\n",
       "    <tr style=\"text-align: right;\">\n",
       "      <th></th>\n",
       "      <th>property_type</th>\n",
       "      <th>price</th>\n",
       "      <th>location</th>\n",
       "      <th>city</th>\n",
       "      <th>baths</th>\n",
       "      <th>purpose</th>\n",
       "      <th>bedrooms</th>\n",
       "      <th>Area_in_Marla</th>\n",
       "    </tr>\n",
       "  </thead>\n",
       "  <tbody>\n",
       "    <tr>\n",
       "      <th>0</th>\n",
       "      <td>Flat</td>\n",
       "      <td>10000000</td>\n",
       "      <td>G-10</td>\n",
       "      <td>Islamabad</td>\n",
       "      <td>2</td>\n",
       "      <td>For Sale</td>\n",
       "      <td>2</td>\n",
       "      <td>4.0</td>\n",
       "    </tr>\n",
       "    <tr>\n",
       "      <th>1</th>\n",
       "      <td>Flat</td>\n",
       "      <td>6900000</td>\n",
       "      <td>E-11</td>\n",
       "      <td>Islamabad</td>\n",
       "      <td>3</td>\n",
       "      <td>For Sale</td>\n",
       "      <td>3</td>\n",
       "      <td>5.6</td>\n",
       "    </tr>\n",
       "    <tr>\n",
       "      <th>2</th>\n",
       "      <td>House</td>\n",
       "      <td>16500000</td>\n",
       "      <td>G-15</td>\n",
       "      <td>Islamabad</td>\n",
       "      <td>6</td>\n",
       "      <td>For Sale</td>\n",
       "      <td>5</td>\n",
       "      <td>8.0</td>\n",
       "    </tr>\n",
       "    <tr>\n",
       "      <th>3</th>\n",
       "      <td>House</td>\n",
       "      <td>43500000</td>\n",
       "      <td>Bani Gala</td>\n",
       "      <td>Islamabad</td>\n",
       "      <td>4</td>\n",
       "      <td>For Sale</td>\n",
       "      <td>4</td>\n",
       "      <td>40.0</td>\n",
       "    </tr>\n",
       "    <tr>\n",
       "      <th>4</th>\n",
       "      <td>House</td>\n",
       "      <td>7000000</td>\n",
       "      <td>DHA Defence</td>\n",
       "      <td>Islamabad</td>\n",
       "      <td>3</td>\n",
       "      <td>For Sale</td>\n",
       "      <td>3</td>\n",
       "      <td>8.0</td>\n",
       "    </tr>\n",
       "  </tbody>\n",
       "</table>\n",
       "</div>"
      ],
      "text/plain": [
       "  property_type     price     location       city  baths   purpose  bedrooms  \\\n",
       "0          Flat  10000000         G-10  Islamabad      2  For Sale         2   \n",
       "1          Flat   6900000         E-11  Islamabad      3  For Sale         3   \n",
       "2         House  16500000         G-15  Islamabad      6  For Sale         5   \n",
       "3         House  43500000    Bani Gala  Islamabad      4  For Sale         4   \n",
       "4         House   7000000  DHA Defence  Islamabad      3  For Sale         3   \n",
       "\n",
       "   Area_in_Marla  \n",
       "0            4.0  \n",
       "1            5.6  \n",
       "2            8.0  \n",
       "3           40.0  \n",
       "4            8.0  "
      ]
     },
     "execution_count": 5,
     "metadata": {},
     "output_type": "execute_result"
    }
   ],
   "source": [
    "df.head()"
   ]
  },
  {
   "cell_type": "code",
   "execution_count": 6,
   "id": "dbe04757-2fe8-465f-ad39-33e2bec328f4",
   "metadata": {},
   "outputs": [
    {
     "data": {
      "text/plain": [
       "(99499, 8)"
      ]
     },
     "execution_count": 6,
     "metadata": {},
     "output_type": "execute_result"
    }
   ],
   "source": [
    "df.shape"
   ]
  },
  {
   "cell_type": "code",
   "execution_count": 7,
   "id": "400a0546-7621-4a22-bc17-2c6b433754ec",
   "metadata": {},
   "outputs": [
    {
     "name": "stdout",
     "output_type": "stream",
     "text": [
      "<class 'pandas.core.frame.DataFrame'>\n",
      "RangeIndex: 99499 entries, 0 to 99498\n",
      "Data columns (total 8 columns):\n",
      " #   Column         Non-Null Count  Dtype  \n",
      "---  ------         --------------  -----  \n",
      " 0   property_type  99499 non-null  object \n",
      " 1   price          99499 non-null  int64  \n",
      " 2   location       99499 non-null  object \n",
      " 3   city           99499 non-null  object \n",
      " 4   baths          99499 non-null  int64  \n",
      " 5   purpose        99499 non-null  object \n",
      " 6   bedrooms       99499 non-null  int64  \n",
      " 7   Area_in_Marla  99499 non-null  float64\n",
      "dtypes: float64(1), int64(3), object(4)\n",
      "memory usage: 6.1+ MB\n"
     ]
    }
   ],
   "source": [
    "df.info()"
   ]
  },
  {
   "cell_type": "code",
   "execution_count": 8,
   "id": "f98ae2ab-aeb3-4d33-bc32-50ab02acf1b6",
   "metadata": {},
   "outputs": [
    {
     "data": {
      "text/plain": [
       "property_type    0\n",
       "price            0\n",
       "location         0\n",
       "city             0\n",
       "baths            0\n",
       "purpose          0\n",
       "bedrooms         0\n",
       "Area_in_Marla    0\n",
       "dtype: int64"
      ]
     },
     "execution_count": 8,
     "metadata": {},
     "output_type": "execute_result"
    }
   ],
   "source": [
    "df.isna().sum()"
   ]
  },
  {
   "cell_type": "code",
   "execution_count": 9,
   "id": "04761205-6090-4c8d-b56c-485b81fa3d13",
   "metadata": {},
   "outputs": [
    {
     "name": "stdout",
     "output_type": "stream",
     "text": [
      "property_type\n",
      "House            58169\n",
      "Flat             26658\n",
      "Upper Portion     8539\n",
      "Lower Portion     5549\n",
      "Penthouse          255\n",
      "Room               241\n",
      "Farm House          88\n",
      "Name: count, dtype: int64\n",
      "price\n",
      "15000000    1727\n",
      "6500000     1542\n",
      "35000       1486\n",
      "45000       1424\n",
      "12500000    1400\n",
      "            ... \n",
      "1790000        1\n",
      "6169000        1\n",
      "8970000        1\n",
      "5499000        1\n",
      "1247000        1\n",
      "Name: count, Length: 1421, dtype: int64\n",
      "location\n",
      "DHA Defence               11787\n",
      "Bahria Town Karachi        6697\n",
      "Bahria Town Rawalpindi     5257\n",
      "Bahria Town                4437\n",
      "Gulistan-e-Jauhar          3532\n",
      "                          ...  \n",
      "Times Residency               1\n",
      "CBR Town Phase 2              1\n",
      "Montgomery Road               1\n",
      "Sahianwala                    1\n",
      "Shahra-e-Liaquat              1\n",
      "Name: count, Length: 1389, dtype: int64\n",
      "city\n",
      "Karachi       37066\n",
      "Lahore        26221\n",
      "Islamabad     22243\n",
      "Rawalpindi    11738\n",
      "Faisalabad     2231\n",
      "Name: count, dtype: int64\n",
      "baths\n",
      "3    30256\n",
      "2    22660\n",
      "4    17120\n",
      "5    11766\n",
      "6    10745\n",
      "1     4215\n",
      "7     2737\n",
      "Name: count, dtype: int64\n",
      "purpose\n",
      "For Sale    70947\n",
      "For Rent    28552\n",
      "Name: count, dtype: int64\n",
      "bedrooms\n",
      "3    34888\n",
      "2    23245\n",
      "4    17458\n",
      "5    14355\n",
      "6     6275\n",
      "1     2984\n",
      "0      294\n",
      "Name: count, dtype: int64\n",
      "Area_in_Marla\n",
      "5.0      12268\n",
      "10.0     12267\n",
      "20.0      9119\n",
      "8.0       7125\n",
      "4.0       4412\n",
      "         ...  \n",
      "14.1         1\n",
      "12.6         1\n",
      "150.0        1\n",
      "17.7         1\n",
      "74.0         1\n",
      "Name: count, Length: 240, dtype: int64\n"
     ]
    }
   ],
   "source": [
    "for column in df.columns:\n",
    "    print(df[column].value_counts())"
   ]
  },
  {
   "cell_type": "code",
   "execution_count": null,
   "id": "a9116516-c971-47bd-8c77-94cec83f086f",
   "metadata": {},
   "outputs": [],
   "source": []
  },
  {
   "cell_type": "code",
   "execution_count": 10,
   "id": "fe2ed375-d3e1-4ea2-a8df-2307b1a0a6d9",
   "metadata": {},
   "outputs": [
    {
     "name": "stderr",
     "output_type": "stream",
     "text": [
      "C:\\Users\\Ali Ahmad\\AppData\\Local\\Temp\\ipykernel_9584\\4212150488.py:5: FutureWarning: \n",
      "\n",
      "Passing `palette` without assigning `hue` is deprecated and will be removed in v0.14.0. Assign the `x` variable to `hue` and set `legend=False` for the same effect.\n",
      "\n",
      "  sns.countplot(data=df, x='property_type', order=df['property_type'].value_counts().index, palette='viridis')\n"
     ]
    },
    {
     "data": {
      "image/png": "[encoded data removed]",
      "text/plain": [
       "<Figure size 1000x700 with 1 Axes>"
      ]
     },
     "metadata": {},
     "output_type": "display_data"
    }
   ],
   "source": [
    "import seaborn as sns\n",
    "import matplotlib.pyplot as plt\n",
    "\n",
    "plt.figure(figsize=(10,7))\n",
    "sns.countplot(data=df, x='property_type', order=df['property_type'].value_counts().index, palette='viridis')\n",
    "plt.xticks(rotation=45)\n",
    "plt.title('Count of Listings by Property Type')\n",
    "plt.xlabel('Property Type')\n",
    "plt.ylabel('Number of Listings')\n",
    "plt.tight_layout()\n",
    "plt.show()"
   ]
  },
  {
   "cell_type": "code",
   "execution_count": 11,
   "id": "e2552b65-99f3-451f-9248-320170736c6f",
   "metadata": {},
   "outputs": [
    {
     "name": "stderr",
     "output_type": "stream",
     "text": [
      "C:\\Users\\Ali Ahmad\\AppData\\Local\\Temp\\ipykernel_9584\\3398618653.py:2: FutureWarning: \n",
      "\n",
      "Passing `palette` without assigning `hue` is deprecated and will be removed in v0.14.0. Assign the `x` variable to `hue` and set `legend=False` for the same effect.\n",
      "\n",
      "  sns.boxplot(data=df, x='property_type', y='price', palette='Set2')\n"
     ]
    },
    {
     "data": {
      "image/png": "[encoded data removed]",
      "text/plain": [
       "<Figure size 1200x600 with 1 Axes>"
      ]
     },
     "metadata": {},
     "output_type": "display_data"
    }
   ],
   "source": [
    "plt.figure(figsize=(12,6))\n",
    "sns.boxplot(data=df, x='property_type', y='price', palette='Set2')\n",
    "plt.xticks(rotation=45)\n",
    "plt.yscale('log')  # optional: agar price ka range bohat wide ho\n",
    "plt.title('Price Distribution by Property Type')\n",
    "plt.xlabel('Property Type')\n",
    "plt.ylabel('Price (log scale)')\n",
    "plt.tight_layout()\n",
    "plt.show()\n"
   ]
  },
  {
   "cell_type": "code",
   "execution_count": 12,
   "id": "e12ef6c3-863f-4504-9705-3d1c5470c8eb",
   "metadata": {},
   "outputs": [
    {
     "name": "stderr",
     "output_type": "stream",
     "text": [
      "C:\\Users\\Ali Ahmad\\AppData\\Local\\Temp\\ipykernel_9584\\1870308474.py:4: FutureWarning: \n",
      "\n",
      "Passing `palette` without assigning `hue` is deprecated and will be removed in v0.14.0. Assign the `x` variable to `hue` and set `legend=False` for the same effect.\n",
      "\n",
      "  sns.barplot(data=avg_price, x='property_type', y='price', palette='magma')\n"
     ]
    },
    {
     "data": {
      "image/png": "[encoded data removed]",
      "text/plain": [
       "<Figure size 1000x600 with 1 Axes>"
      ]
     },
     "metadata": {},
     "output_type": "display_data"
    }
   ],
   "source": [
    "avg_price = df.groupby('property_type')['price'].mean().sort_values(ascending=False).reset_index()\n",
    "\n",
    "plt.figure(figsize=(10,6))\n",
    "sns.barplot(data=avg_price, x='property_type', y='price', palette='magma')\n",
    "plt.xticks(rotation=45)\n",
    "plt.title('Average Price by Property Type')\n",
    "plt.xlabel('Property Type')\n",
    "plt.ylabel('Average Price')\n",
    "plt.tight_layout()\n",
    "plt.show()"
   ]
  },
  {
   "cell_type": "markdown",
   "id": "15505bcb-ee81-42f7-bdce-6616702f3082",
   "metadata": {},
   "source": [
    "## Insights:\n",
    "- Farm House has average value is 1.75le7.\n",
    "- Which is hightest average value but count of farm house in the data is only 255.\n",
    "- There are some outliers in Upper portions and Lower portions\n",
    "- Farm House, Foom and Penthouse count is less than 300 so we combine them"
   ]
  },
  {
   "cell_type": "code",
   "execution_count": 13,
   "id": "ad5ff004-297f-4f8d-a2ae-c249362240bd",
   "metadata": {},
   "outputs": [],
   "source": [
    "rare_types = ['Penthouse', 'Room', 'Farm House']\n",
    "df['property_type'] = df['property_type'].apply(lambda x: 'Other' if x in rare_types else x)"
   ]
  },
  {
   "cell_type": "code",
   "execution_count": 14,
   "id": "52695858-debb-43c6-934d-79edca339b8e",
   "metadata": {},
   "outputs": [
    {
     "data": {
      "text/plain": [
       "property_type\n",
       "House            58169\n",
       "Flat             26658\n",
       "Upper Portion     8539\n",
       "Lower Portion     5549\n",
       "Other              584\n",
       "Name: count, dtype: int64"
      ]
     },
     "execution_count": 14,
     "metadata": {},
     "output_type": "execute_result"
    }
   ],
   "source": [
    "df['property_type'].value_counts()"
   ]
  },
  {
   "cell_type": "code",
   "execution_count": 15,
   "id": "b7fdfdb0-2823-4106-bf59-121f102cae86",
   "metadata": {},
   "outputs": [
    {
     "data": {
      "text/plain": [
       "<Axes: xlabel='property_type', ylabel='price'>"
      ]
     },
     "execution_count": 15,
     "metadata": {},
     "output_type": "execute_result"
    },
    {
     "data": {
      "image/png": "[encoded data removed]",
      "text/plain": [
       "<Figure size 640x480 with 1 Axes>"
      ]
     },
     "metadata": {},
     "output_type": "display_data"
    }
   ],
   "source": [
    "sns.boxplot(data=df, x='property_type', y='price')\n"
   ]
  },
  {
   "cell_type": "code",
   "execution_count": 16,
   "id": "0faee6eb-a5c6-4711-b9fe-1a5794ca4b98",
   "metadata": {},
   "outputs": [],
   "source": [
    "top_locations = df['location'].value_counts().nlargest(50).index\n",
    "df['location'] = df['location'].apply(lambda x:x if x in top_locations else 'others')"
   ]
  },
  {
   "cell_type": "code",
   "execution_count": 17,
   "id": "05ce7811-3dce-44b9-a151-4eed2ecbb2c2",
   "metadata": {},
   "outputs": [
    {
     "name": "stderr",
     "output_type": "stream",
     "text": [
      "C:\\Users\\Ali Ahmad\\AppData\\Local\\Temp\\ipykernel_9584\\1843644994.py:2: FutureWarning: \n",
      "\n",
      "Passing `palette` without assigning `hue` is deprecated and will be removed in v0.14.0. Assign the `x` variable to `hue` and set `legend=False` for the same effect.\n",
      "\n",
      "  sns.countplot(data=df, x='location', order=df['location'].value_counts().loc[top_locations].index, palette='Set3')\n"
     ]
    },
    {
     "data": {
      "image/png": "[encoded data removed]",
      "text/plain": [
       "<Figure size 1200x600 with 1 Axes>"
      ]
     },
     "metadata": {},
     "output_type": "display_data"
    }
   ],
   "source": [
    "plt.figure(figsize=(12,6))\n",
    "sns.countplot(data=df, x='location', order=df['location'].value_counts().loc[top_locations].index, palette='Set3')\n",
    "plt.xticks(rotation=45)\n",
    "plt.title('Top 20 Locations by Listing Count')\n",
    "plt.xlabel('Location')\n",
    "plt.ylabel('Number of Listings')\n",
    "plt.tight_layout()\n",
    "plt.show()"
   ]
  },
  {
   "cell_type": "code",
   "execution_count": 18,
   "id": "82291673-f605-4587-b99a-859b96720996",
   "metadata": {},
   "outputs": [
    {
     "data": {
      "text/plain": [
       "location\n",
       "others                        28522\n",
       "DHA Defence                   11787\n",
       "Bahria Town Karachi            6697\n",
       "Bahria Town Rawalpindi         5257\n",
       "Bahria Town                    4437\n",
       "Gulistan-e-Jauhar              3532\n",
       "Gulshan-e-Iqbal Town           3061\n",
       "E-11                           2060\n",
       "North Karachi                  1878\n",
       "North Nazimabad                1729\n",
       "Scheme 33                      1592\n",
       "Gadap Town                     1583\n",
       "G-13                           1570\n",
       "Johar Town                     1352\n",
       "G-11                           1321\n",
       "F-11                           1285\n",
       "Clifton                        1271\n",
       "Cantt                          1226\n",
       "I-8                             995\n",
       "Askari                          889\n",
       "Federal B Area                  876\n",
       "Jamshed Town                    836\n",
       "Nazimabad                       819\n",
       "Malir                           805\n",
       "G-15                            783\n",
       "Adiala Road                     744\n",
       "State Life Housing Society      738\n",
       "F-10                            712\n",
       "Ghauri Town                     689\n",
       "I-10                            685\n",
       "F-8                             658\n",
       "Allama Iqbal Town               628\n",
       "Gulraiz Housing Scheme          599\n",
       "Wapda Town                      566\n",
       "F-7                             566\n",
       "Korangi                         553\n",
       "Al Rehman Garden                526\n",
       "Soan Garden                     517\n",
       "Airport Housing Society         491\n",
       "Bahria Orchard                  483\n",
       "Bani Gala                       482\n",
       "Gulberg                         465\n",
       "PWD Housing Scheme              425\n",
       "G-10                            394\n",
       "Paragon City                    390\n",
       "Chaklala Scheme                 388\n",
       "B-17                            346\n",
       "F-6                             335\n",
       "G-9                             332\n",
       "Satellite Town                  326\n",
       "Eden                            298\n",
       "Name: count, dtype: int64"
      ]
     },
     "execution_count": 18,
     "metadata": {},
     "output_type": "execute_result"
    }
   ],
   "source": [
    "df['location'].value_counts()"
   ]
  },
  {
   "cell_type": "code",
   "execution_count": 19,
   "id": "1542d10a-bc0f-45e5-9363-12c929bb9d8e",
   "metadata": {},
   "outputs": [],
   "source": [
    "df['full_location'] = df['city'] + ' - ' + df['location']\n"
   ]
  },
  {
   "cell_type": "code",
   "execution_count": 20,
   "id": "1ba65f69-25fb-4526-9504-eb213147fc15",
   "metadata": {},
   "outputs": [
    {
     "data": {
      "text/plain": [
       "full_location\n",
       "Lahore - others                        12618\n",
       "Karachi - Bahria Town Karachi           6697\n",
       "Karachi - DHA Defence                   5858\n",
       "Rawalpindi - Bahria Town Rawalpindi     5257\n",
       "Karachi - others                        5079\n",
       "                                       ...  \n",
       "Faisalabad - Nazimabad                     5\n",
       "Faisalabad - Satellite Town                4\n",
       "Islamabad - Wapda Town                     2\n",
       "Faisalabad - Wapda Town                    1\n",
       "Karachi - Allama Iqbal Town                1\n",
       "Name: count, Length: 68, dtype: int64"
      ]
     },
     "execution_count": 20,
     "metadata": {},
     "output_type": "execute_result"
    }
   ],
   "source": [
    "df['full_location'].value_counts()"
   ]
  },
  {
   "cell_type": "code",
   "execution_count": 21,
   "id": "3f6bd9ca-d9a9-455a-95bd-49ed8d11005b",
   "metadata": {},
   "outputs": [],
   "source": [
    "top_full_locations = df['full_location'].value_counts().nlargest(40).index\n",
    "df['full_location'] = df['full_location'].apply(lambda x: x if x in top_full_locations else 'Other')"
   ]
  },
  {
   "cell_type": "code",
   "execution_count": 22,
   "id": "7730174e-2a07-4149-b913-0718a285e1f0",
   "metadata": {},
   "outputs": [
    {
     "data": {
      "text/plain": [
       "full_location\n",
       "Lahore - others                        12618\n",
       "Other                                   8223\n",
       "Karachi - Bahria Town Karachi           6697\n",
       "Karachi - DHA Defence                   5858\n",
       "Rawalpindi - Bahria Town Rawalpindi     5257\n",
       "Karachi - others                        5079\n",
       "Islamabad - others                      4697\n",
       "Rawalpindi - others                     3917\n",
       "Lahore - Bahria Town                    3623\n",
       "Lahore - DHA Defence                    3597\n",
       "Karachi - Gulistan-e-Jauhar             3532\n",
       "Karachi - Gulshan-e-Iqbal Town          3061\n",
       "Islamabad - DHA Defence                 2332\n",
       "Faisalabad - others                     2211\n",
       "Islamabad - E-11                        2060\n",
       "Karachi - North Karachi                 1878\n",
       "Karachi - North Nazimabad               1729\n",
       "Karachi - Scheme 33                     1592\n",
       "Karachi - Gadap Town                    1583\n",
       "Islamabad - G-13                        1570\n",
       "Lahore - Johar Town                     1352\n",
       "Islamabad - G-11                        1321\n",
       "Islamabad - F-11                        1285\n",
       "Karachi - Clifton                       1271\n",
       "Islamabad - I-8                          995\n",
       "Karachi - Cantt                          901\n",
       "Lahore - Askari                          889\n",
       "Karachi - Federal B Area                 876\n",
       "Karachi - Jamshed Town                   836\n",
       "Karachi - Nazimabad                      814\n",
       "Islamabad - Bahria Town                  814\n",
       "Karachi - Malir                          805\n",
       "Islamabad - G-15                         783\n",
       "Rawalpindi - Adiala Road                 744\n",
       "Lahore - State Life Housing Society      738\n",
       "Islamabad - F-10                         712\n",
       "Islamabad - I-10                         685\n",
       "Islamabad - Ghauri Town                  680\n",
       "Islamabad - F-8                          658\n",
       "Lahore - Allama Iqbal Town               627\n",
       "Rawalpindi - Gulraiz Housing Scheme      599\n",
       "Name: count, dtype: int64"
      ]
     },
     "execution_count": 22,
     "metadata": {},
     "output_type": "execute_result"
    }
   ],
   "source": [
    "df['full_location'].value_counts()"
   ]
  },
  {
   "cell_type": "code",
   "execution_count": 23,
   "id": "2bb4a40a-1f7f-406c-b53a-a3ee77f3c873",
   "metadata": {},
   "outputs": [
    {
     "data": {
      "text/html": [
       "<div>\n",
       "<style scoped>\n",
       "    .dataframe tbody tr th:only-of-type {\n",
       "        vertical-align: middle;\n",
       "    }\n",
       "\n",
       "    .dataframe tbody tr th {\n",
       "        vertical-align: top;\n",
       "    }\n",
       "\n",
       "    .dataframe thead th {\n",
       "        text-align: right;\n",
       "    }\n",
       "</style>\n",
       "<table border=\"1\" class=\"dataframe\">\n",
       "  <thead>\n",
       "    <tr style=\"text-align: right;\">\n",
       "      <th></th>\n",
       "      <th>property_type</th>\n",
       "      <th>price</th>\n",
       "      <th>location</th>\n",
       "      <th>city</th>\n",
       "      <th>baths</th>\n",
       "      <th>purpose</th>\n",
       "      <th>bedrooms</th>\n",
       "      <th>Area_in_Marla</th>\n",
       "      <th>full_location</th>\n",
       "    </tr>\n",
       "  </thead>\n",
       "  <tbody>\n",
       "    <tr>\n",
       "      <th>0</th>\n",
       "      <td>Flat</td>\n",
       "      <td>10000000</td>\n",
       "      <td>G-10</td>\n",
       "      <td>Islamabad</td>\n",
       "      <td>2</td>\n",
       "      <td>For Sale</td>\n",
       "      <td>2</td>\n",
       "      <td>4.0</td>\n",
       "      <td>Other</td>\n",
       "    </tr>\n",
       "    <tr>\n",
       "      <th>1</th>\n",
       "      <td>Flat</td>\n",
       "      <td>6900000</td>\n",
       "      <td>E-11</td>\n",
       "      <td>Islamabad</td>\n",
       "      <td>3</td>\n",
       "      <td>For Sale</td>\n",
       "      <td>3</td>\n",
       "      <td>5.6</td>\n",
       "      <td>Islamabad - E-11</td>\n",
       "    </tr>\n",
       "    <tr>\n",
       "      <th>2</th>\n",
       "      <td>House</td>\n",
       "      <td>16500000</td>\n",
       "      <td>G-15</td>\n",
       "      <td>Islamabad</td>\n",
       "      <td>6</td>\n",
       "      <td>For Sale</td>\n",
       "      <td>5</td>\n",
       "      <td>8.0</td>\n",
       "      <td>Islamabad - G-15</td>\n",
       "    </tr>\n",
       "    <tr>\n",
       "      <th>3</th>\n",
       "      <td>House</td>\n",
       "      <td>43500000</td>\n",
       "      <td>Bani Gala</td>\n",
       "      <td>Islamabad</td>\n",
       "      <td>4</td>\n",
       "      <td>For Sale</td>\n",
       "      <td>4</td>\n",
       "      <td>40.0</td>\n",
       "      <td>Other</td>\n",
       "    </tr>\n",
       "    <tr>\n",
       "      <th>4</th>\n",
       "      <td>House</td>\n",
       "      <td>7000000</td>\n",
       "      <td>DHA Defence</td>\n",
       "      <td>Islamabad</td>\n",
       "      <td>3</td>\n",
       "      <td>For Sale</td>\n",
       "      <td>3</td>\n",
       "      <td>8.0</td>\n",
       "      <td>Islamabad - DHA Defence</td>\n",
       "    </tr>\n",
       "  </tbody>\n",
       "</table>\n",
       "</div>"
      ],
      "text/plain": [
       "  property_type     price     location       city  baths   purpose  bedrooms  \\\n",
       "0          Flat  10000000         G-10  Islamabad      2  For Sale         2   \n",
       "1          Flat   6900000         E-11  Islamabad      3  For Sale         3   \n",
       "2         House  16500000         G-15  Islamabad      6  For Sale         5   \n",
       "3         House  43500000    Bani Gala  Islamabad      4  For Sale         4   \n",
       "4         House   7000000  DHA Defence  Islamabad      3  For Sale         3   \n",
       "\n",
       "   Area_in_Marla            full_location  \n",
       "0            4.0                    Other  \n",
       "1            5.6         Islamabad - E-11  \n",
       "2            8.0         Islamabad - G-15  \n",
       "3           40.0                    Other  \n",
       "4            8.0  Islamabad - DHA Defence  "
      ]
     },
     "execution_count": 23,
     "metadata": {},
     "output_type": "execute_result"
    }
   ],
   "source": [
    "df.head()"
   ]
  },
  {
   "cell_type": "code",
   "execution_count": 24,
   "id": "ee4213c5-d861-4b32-9ea2-7fd68b3d6ee6",
   "metadata": {},
   "outputs": [],
   "source": [
    "df['type_city'] = df['property_type'] + ' - ' + df['city']"
   ]
  },
  {
   "cell_type": "code",
   "execution_count": 25,
   "id": "9967b72f-c400-4c84-837e-ca34c86674fd",
   "metadata": {},
   "outputs": [
    {
     "data": {
      "text/plain": [
       "type_city\n",
       "House - Lahore                24743\n",
       "Flat - Karachi                18753\n",
       "House - Karachi               12834\n",
       "House - Islamabad             10416\n",
       "House - Rawalpindi             8199\n",
       "Flat - Islamabad               5018\n",
       "Upper Portion - Islamabad      3734\n",
       "Upper Portion - Karachi        3378\n",
       "Lower Portion - Islamabad      2866\n",
       "House - Faisalabad             1977\n",
       "Lower Portion - Karachi        1808\n",
       "Flat - Rawalpindi              1532\n",
       "Flat - Lahore                  1339\n",
       "Upper Portion - Rawalpindi     1232\n",
       "Lower Portion - Rawalpindi      754\n",
       "Other - Karachi                 293\n",
       "Other - Islamabad               209\n",
       "Upper Portion - Faisalabad      139\n",
       "Lower Portion - Faisalabad       85\n",
       "Upper Portion - Lahore           56\n",
       "Other - Lahore                   47\n",
       "Lower Portion - Lahore           36\n",
       "Other - Rawalpindi               21\n",
       "Flat - Faisalabad                16\n",
       "Other - Faisalabad               14\n",
       "Name: count, dtype: int64"
      ]
     },
     "execution_count": 25,
     "metadata": {},
     "output_type": "execute_result"
    }
   ],
   "source": [
    "df['type_city'].value_counts()"
   ]
  },
  {
   "cell_type": "code",
   "execution_count": 26,
   "id": "22b3c45d-8130-4a87-9438-b2893a40db46",
   "metadata": {},
   "outputs": [
    {
     "data": {
      "text/plain": [
       "city\n",
       "Karachi       37066\n",
       "Lahore        26221\n",
       "Islamabad     22243\n",
       "Rawalpindi    11738\n",
       "Faisalabad     2231\n",
       "Name: count, dtype: int64"
      ]
     },
     "execution_count": 26,
     "metadata": {},
     "output_type": "execute_result"
    }
   ],
   "source": [
    "df['city'].value_counts()"
   ]
  },
  {
   "cell_type": "code",
   "execution_count": 27,
   "id": "10b87c1d-55d2-46d0-9a57-57d04c087fed",
   "metadata": {},
   "outputs": [
    {
     "data": {
      "image/png": "[encoded data removed]",
      "text/plain": [
       "<Figure size 1200x600 with 1 Axes>"
      ]
     },
     "metadata": {},
     "output_type": "display_data"
    }
   ],
   "source": [
    "# Crosstab for property_type vs city\n",
    "cross_tab = pd.crosstab(df['city'], df['property_type'], normalize='index') * 100\n",
    "cross_tab.plot(kind='bar', stacked=True, figsize=(12, 6), colormap='tab20')\n",
    "plt.ylabel('% of Property Types')\n",
    "plt.title('Distribution of Property Types per City')\n",
    "plt.legend(title='Property Type', bbox_to_anchor=(1.05, 1), loc='upper left')\n",
    "plt.tight_layout()\n",
    "plt.show()"
   ]
  },
  {
   "cell_type": "markdown",
   "id": "4066473f-f45f-4693-a4a3-1759bc9e6ac5",
   "metadata": {},
   "source": [
    "Insights \n",
    "- only karachi has 50% flats and then Islamabas has 25% flat\n",
    "- Lahore and Faisalabad has almost 95% houses."
   ]
  },
  {
   "cell_type": "code",
   "execution_count": 28,
   "id": "8e5bf07c-2ada-40a5-a746-4d4f7aa9c054",
   "metadata": {},
   "outputs": [
    {
     "data": {
      "text/plain": [
       "baths\n",
       "3    30256\n",
       "2    22660\n",
       "4    17120\n",
       "5    11766\n",
       "6    10745\n",
       "1     4215\n",
       "7     2737\n",
       "Name: count, dtype: int64"
      ]
     },
     "execution_count": 28,
     "metadata": {},
     "output_type": "execute_result"
    }
   ],
   "source": [
    "df['baths'].value_counts()"
   ]
  },
  {
   "cell_type": "code",
   "execution_count": 29,
   "id": "0a05a6cf-3726-41a2-9d5e-20da5083481c",
   "metadata": {},
   "outputs": [
    {
     "data": {
      "text/plain": [
       "count    99499.000000\n",
       "mean         3.530106\n",
       "std          1.474217\n",
       "min          1.000000\n",
       "25%          2.000000\n",
       "50%          3.000000\n",
       "75%          5.000000\n",
       "max          7.000000\n",
       "Name: baths, dtype: float64"
      ]
     },
     "execution_count": 29,
     "metadata": {},
     "output_type": "execute_result"
    }
   ],
   "source": [
    "df['baths'].describe()"
   ]
  },
  {
   "cell_type": "code",
   "execution_count": 30,
   "id": "6e6e248a-d300-4d5c-8205-e4295f9c5921",
   "metadata": {},
   "outputs": [
    {
     "data": {
      "image/png": "[encoded data removed]",
      "text/plain": [
       "<Figure size 640x480 with 1 Axes>"
      ]
     },
     "metadata": {},
     "output_type": "display_data"
    }
   ],
   "source": [
    "sns.boxplot(x='baths', y='price', data=df)\n",
    "plt.title('Price Distribution by Number of Bathrooms')\n",
    "plt.xlabel('Number of Bathrooms')\n",
    "plt.ylabel('Price')\n",
    "plt.show()"
   ]
  },
  {
   "cell_type": "markdown",
   "id": "3b27eb1e-66c9-4a9e-afca-6cb20556ca76",
   "metadata": {},
   "source": [
    "- The range of Bath is form 1 to 7.\n",
    "- you’ll likely see positive correlation: more bathrooms → higher price.\n",
    "- The mean is 3.\n",
    "- 1,2,3,4 baths has some outliers.\n",
    "- Most number of outliers in 1 bath property."
   ]
  },
  {
   "cell_type": "code",
   "execution_count": 31,
   "id": "73583642-26f9-45c6-a91b-43b2643803b5",
   "metadata": {},
   "outputs": [
    {
     "data": {
      "text/plain": [
       "purpose\n",
       "For Sale    70947\n",
       "For Rent    28552\n",
       "Name: count, dtype: int64"
      ]
     },
     "execution_count": 31,
     "metadata": {},
     "output_type": "execute_result"
    }
   ],
   "source": [
    "df['purpose'].value_counts()"
   ]
  },
  {
   "cell_type": "code",
   "execution_count": 32,
   "id": "c25f08dd-62be-4645-82cb-dd85bf3a7e57",
   "metadata": {},
   "outputs": [
    {
     "data": {
      "text/plain": [
       "<Axes: xlabel='purpose', ylabel='price'>"
      ]
     },
     "execution_count": 32,
     "metadata": {},
     "output_type": "execute_result"
    },
    {
     "data": {
      "image/png": "[encoded data removed]",
      "text/plain": [
       "<Figure size 640x480 with 1 Axes>"
      ]
     },
     "metadata": {},
     "output_type": "display_data"
    }
   ],
   "source": [
    "sns.boxplot(x='purpose', y='price', data=df)"
   ]
  },
  {
   "cell_type": "markdown",
   "id": "71187695-184a-491a-b51d-84e9d2b4560d",
   "metadata": {},
   "source": [
    "- Yes the price of property which is for sale is higher than For Rent\n",
    "- There is some outliers  in For Rent"
   ]
  },
  {
   "cell_type": "code",
   "execution_count": 33,
   "id": "717131ce-97be-4643-a89c-b520394fc1df",
   "metadata": {},
   "outputs": [
    {
     "data": {
      "text/html": [
       "<div>\n",
       "<style scoped>\n",
       "    .dataframe tbody tr th:only-of-type {\n",
       "        vertical-align: middle;\n",
       "    }\n",
       "\n",
       "    .dataframe tbody tr th {\n",
       "        vertical-align: top;\n",
       "    }\n",
       "\n",
       "    .dataframe thead th {\n",
       "        text-align: right;\n",
       "    }\n",
       "</style>\n",
       "<table border=\"1\" class=\"dataframe\">\n",
       "  <thead>\n",
       "    <tr style=\"text-align: right;\">\n",
       "      <th></th>\n",
       "      <th>property_type</th>\n",
       "      <th>price</th>\n",
       "      <th>location</th>\n",
       "      <th>city</th>\n",
       "      <th>baths</th>\n",
       "      <th>purpose</th>\n",
       "      <th>bedrooms</th>\n",
       "      <th>Area_in_Marla</th>\n",
       "      <th>full_location</th>\n",
       "      <th>type_city</th>\n",
       "    </tr>\n",
       "  </thead>\n",
       "  <tbody>\n",
       "    <tr>\n",
       "      <th>0</th>\n",
       "      <td>Flat</td>\n",
       "      <td>10000000</td>\n",
       "      <td>G-10</td>\n",
       "      <td>Islamabad</td>\n",
       "      <td>2</td>\n",
       "      <td>For Sale</td>\n",
       "      <td>2</td>\n",
       "      <td>4.0</td>\n",
       "      <td>Other</td>\n",
       "      <td>Flat - Islamabad</td>\n",
       "    </tr>\n",
       "    <tr>\n",
       "      <th>1</th>\n",
       "      <td>Flat</td>\n",
       "      <td>6900000</td>\n",
       "      <td>E-11</td>\n",
       "      <td>Islamabad</td>\n",
       "      <td>3</td>\n",
       "      <td>For Sale</td>\n",
       "      <td>3</td>\n",
       "      <td>5.6</td>\n",
       "      <td>Islamabad - E-11</td>\n",
       "      <td>Flat - Islamabad</td>\n",
       "    </tr>\n",
       "    <tr>\n",
       "      <th>2</th>\n",
       "      <td>House</td>\n",
       "      <td>16500000</td>\n",
       "      <td>G-15</td>\n",
       "      <td>Islamabad</td>\n",
       "      <td>6</td>\n",
       "      <td>For Sale</td>\n",
       "      <td>5</td>\n",
       "      <td>8.0</td>\n",
       "      <td>Islamabad - G-15</td>\n",
       "      <td>House - Islamabad</td>\n",
       "    </tr>\n",
       "    <tr>\n",
       "      <th>3</th>\n",
       "      <td>House</td>\n",
       "      <td>43500000</td>\n",
       "      <td>Bani Gala</td>\n",
       "      <td>Islamabad</td>\n",
       "      <td>4</td>\n",
       "      <td>For Sale</td>\n",
       "      <td>4</td>\n",
       "      <td>40.0</td>\n",
       "      <td>Other</td>\n",
       "      <td>House - Islamabad</td>\n",
       "    </tr>\n",
       "    <tr>\n",
       "      <th>4</th>\n",
       "      <td>House</td>\n",
       "      <td>7000000</td>\n",
       "      <td>DHA Defence</td>\n",
       "      <td>Islamabad</td>\n",
       "      <td>3</td>\n",
       "      <td>For Sale</td>\n",
       "      <td>3</td>\n",
       "      <td>8.0</td>\n",
       "      <td>Islamabad - DHA Defence</td>\n",
       "      <td>House - Islamabad</td>\n",
       "    </tr>\n",
       "    <tr>\n",
       "      <th>...</th>\n",
       "      <td>...</td>\n",
       "      <td>...</td>\n",
       "      <td>...</td>\n",
       "      <td>...</td>\n",
       "      <td>...</td>\n",
       "      <td>...</td>\n",
       "      <td>...</td>\n",
       "      <td>...</td>\n",
       "      <td>...</td>\n",
       "      <td>...</td>\n",
       "    </tr>\n",
       "    <tr>\n",
       "      <th>99494</th>\n",
       "      <td>Flat</td>\n",
       "      <td>7500000</td>\n",
       "      <td>Bahria Town Karachi</td>\n",
       "      <td>Karachi</td>\n",
       "      <td>3</td>\n",
       "      <td>For Sale</td>\n",
       "      <td>3</td>\n",
       "      <td>8.0</td>\n",
       "      <td>Karachi - Bahria Town Karachi</td>\n",
       "      <td>Flat - Karachi</td>\n",
       "    </tr>\n",
       "    <tr>\n",
       "      <th>99495</th>\n",
       "      <td>House</td>\n",
       "      <td>8800000</td>\n",
       "      <td>Bahria Town Karachi</td>\n",
       "      <td>Karachi</td>\n",
       "      <td>4</td>\n",
       "      <td>For Sale</td>\n",
       "      <td>3</td>\n",
       "      <td>8.0</td>\n",
       "      <td>Karachi - Bahria Town Karachi</td>\n",
       "      <td>House - Karachi</td>\n",
       "    </tr>\n",
       "    <tr>\n",
       "      <th>99496</th>\n",
       "      <td>House</td>\n",
       "      <td>14000000</td>\n",
       "      <td>Bahria Town Karachi</td>\n",
       "      <td>Karachi</td>\n",
       "      <td>3</td>\n",
       "      <td>For Sale</td>\n",
       "      <td>3</td>\n",
       "      <td>8.0</td>\n",
       "      <td>Karachi - Bahria Town Karachi</td>\n",
       "      <td>House - Karachi</td>\n",
       "    </tr>\n",
       "    <tr>\n",
       "      <th>99497</th>\n",
       "      <td>House</td>\n",
       "      <td>14000000</td>\n",
       "      <td>Bahria Town Karachi</td>\n",
       "      <td>Karachi</td>\n",
       "      <td>4</td>\n",
       "      <td>For Sale</td>\n",
       "      <td>4</td>\n",
       "      <td>14.0</td>\n",
       "      <td>Karachi - Bahria Town Karachi</td>\n",
       "      <td>House - Karachi</td>\n",
       "    </tr>\n",
       "    <tr>\n",
       "      <th>99498</th>\n",
       "      <td>House</td>\n",
       "      <td>9000000</td>\n",
       "      <td>Bahria Town Karachi</td>\n",
       "      <td>Karachi</td>\n",
       "      <td>3</td>\n",
       "      <td>For Sale</td>\n",
       "      <td>3</td>\n",
       "      <td>9.4</td>\n",
       "      <td>Karachi - Bahria Town Karachi</td>\n",
       "      <td>House - Karachi</td>\n",
       "    </tr>\n",
       "  </tbody>\n",
       "</table>\n",
       "<p>70947 rows × 10 columns</p>\n",
       "</div>"
      ],
      "text/plain": [
       "      property_type     price             location       city  baths  \\\n",
       "0              Flat  10000000                 G-10  Islamabad      2   \n",
       "1              Flat   6900000                 E-11  Islamabad      3   \n",
       "2             House  16500000                 G-15  Islamabad      6   \n",
       "3             House  43500000            Bani Gala  Islamabad      4   \n",
       "4             House   7000000          DHA Defence  Islamabad      3   \n",
       "...             ...       ...                  ...        ...    ...   \n",
       "99494          Flat   7500000  Bahria Town Karachi    Karachi      3   \n",
       "99495         House   8800000  Bahria Town Karachi    Karachi      4   \n",
       "99496         House  14000000  Bahria Town Karachi    Karachi      3   \n",
       "99497         House  14000000  Bahria Town Karachi    Karachi      4   \n",
       "99498         House   9000000  Bahria Town Karachi    Karachi      3   \n",
       "\n",
       "        purpose  bedrooms  Area_in_Marla                  full_location  \\\n",
       "0      For Sale         2            4.0                          Other   \n",
       "1      For Sale         3            5.6               Islamabad - E-11   \n",
       "2      For Sale         5            8.0               Islamabad - G-15   \n",
       "3      For Sale         4           40.0                          Other   \n",
       "4      For Sale         3            8.0        Islamabad - DHA Defence   \n",
       "...         ...       ...            ...                            ...   \n",
       "99494  For Sale         3            8.0  Karachi - Bahria Town Karachi   \n",
       "99495  For Sale         3            8.0  Karachi - Bahria Town Karachi   \n",
       "99496  For Sale         3            8.0  Karachi - Bahria Town Karachi   \n",
       "99497  For Sale         4           14.0  Karachi - Bahria Town Karachi   \n",
       "99498  For Sale         3            9.4  Karachi - Bahria Town Karachi   \n",
       "\n",
       "               type_city  \n",
       "0       Flat - Islamabad  \n",
       "1       Flat - Islamabad  \n",
       "2      House - Islamabad  \n",
       "3      House - Islamabad  \n",
       "4      House - Islamabad  \n",
       "...                  ...  \n",
       "99494     Flat - Karachi  \n",
       "99495    House - Karachi  \n",
       "99496    House - Karachi  \n",
       "99497    House - Karachi  \n",
       "99498    House - Karachi  \n",
       "\n",
       "[70947 rows x 10 columns]"
      ]
     },
     "execution_count": 33,
     "metadata": {},
     "output_type": "execute_result"
    }
   ],
   "source": [
    "df[df['purpose'] == 'For Sale']"
   ]
  },
  {
   "cell_type": "code",
   "execution_count": 34,
   "id": "9234b241-e767-4327-9f15-685b6fd68c9b",
   "metadata": {},
   "outputs": [
    {
     "data": {
      "text/plain": [
       "count    99499.000000\n",
       "mean         3.350737\n",
       "std          1.255913\n",
       "min          0.000000\n",
       "25%          2.000000\n",
       "50%          3.000000\n",
       "75%          4.000000\n",
       "max          6.000000\n",
       "Name: bedrooms, dtype: float64"
      ]
     },
     "execution_count": 34,
     "metadata": {},
     "output_type": "execute_result"
    }
   ],
   "source": [
    "df['bedrooms'].describe()"
   ]
  },
  {
   "cell_type": "markdown",
   "id": "c064ef0c-4f67-47d8-a6c6-870b598694b4",
   "metadata": {},
   "source": [
    "- Mean ≈ 3.35\n",
    "- Most common = 3 bedrooms\n",
    "- Some entries have 0 bedrooms → likely missing or studio units"
   ]
  },
  {
   "cell_type": "code",
   "execution_count": 35,
   "id": "159c30c4-f72e-4009-8a00-7dc1d8273b81",
   "metadata": {},
   "outputs": [],
   "source": [
    "df = df[df['bedrooms'] > 0]"
   ]
  },
  {
   "cell_type": "code",
   "execution_count": 36,
   "id": "9e06d79a-10b4-4bac-ad77-38eedf15dd80",
   "metadata": {},
   "outputs": [
    {
     "data": {
      "image/png": "[encoded data removed]",
      "text/plain": [
       "<Figure size 640x480 with 1 Axes>"
      ]
     },
     "metadata": {},
     "output_type": "display_data"
    }
   ],
   "source": [
    "sns.boxplot(x='bedrooms', y='price', data=df)\n",
    "plt.title(\"Price Distribution by Number of Bedrooms\")\n",
    "plt.show()"
   ]
  },
  {
   "cell_type": "markdown",
   "id": "eb15f287-c904-44e8-9b65-3f896945c295",
   "metadata": {},
   "source": [
    "- you’ll likely see positive correlation: more bedrooms → higher price.\n",
    "- And there are some outliers in 1 bedroom property"
   ]
  },
  {
   "cell_type": "code",
   "execution_count": 37,
   "id": "3ea065da-553b-491a-b5db-8f6ed2432955",
   "metadata": {},
   "outputs": [
    {
     "data": {
      "text/plain": [
       "Area_in_Marla\n",
       "10.0     12251\n",
       "5.0      12241\n",
       "20.0      9105\n",
       "8.0       7119\n",
       "4.0       4396\n",
       "         ...  \n",
       "14.1         1\n",
       "12.6         1\n",
       "150.0        1\n",
       "17.7         1\n",
       "74.0         1\n",
       "Name: count, Length: 240, dtype: int64"
      ]
     },
     "execution_count": 37,
     "metadata": {},
     "output_type": "execute_result"
    }
   ],
   "source": [
    "df['Area_in_Marla'].value_counts()"
   ]
  },
  {
   "cell_type": "code",
   "execution_count": 38,
   "id": "b5712e51-efd2-4ff6-8cbc-54b6f9eedf24",
   "metadata": {},
   "outputs": [
    {
     "data": {
      "text/plain": [
       "count    99205.000000\n",
       "mean         8.763988\n",
       "std          7.468824\n",
       "min          0.000000\n",
       "25%          4.800000\n",
       "50%          6.800000\n",
       "75%         10.000000\n",
       "max        194.000000\n",
       "Name: Area_in_Marla, dtype: float64"
      ]
     },
     "execution_count": 38,
     "metadata": {},
     "output_type": "execute_result"
    }
   ],
   "source": [
    "df['Area_in_Marla'].describe()"
   ]
  },
  {
   "cell_type": "markdown",
   "id": "f82d3585-5127-4d28-bec6-723236fd7835",
   "metadata": {},
   "source": [
    "##  Issues Noticed:\n",
    "- Min = 0.0 → likely missing or incorrect data\n",
    "- Max = 194 → possibly outlier (e.g., commercial/farmhouse)"
   ]
  },
  {
   "cell_type": "code",
   "execution_count": 39,
   "id": "e9f77798-70b4-4508-a6fa-2d489486b12e",
   "metadata": {},
   "outputs": [],
   "source": [
    "df = df[df['Area_in_Marla'] > 0]"
   ]
  },
  {
   "cell_type": "code",
   "execution_count": 40,
   "id": "d7e5705e-3fac-43f1-9bd3-3f060ae34b60",
   "metadata": {},
   "outputs": [],
   "source": [
    "upper_limit = df['Area_in_Marla'].quantile(0.99)\n",
    "df = df[df['Area_in_Marla'] <= upper_limit]"
   ]
  },
  {
   "cell_type": "code",
   "execution_count": 41,
   "id": "24b636b6-5951-4798-a7be-35374397c2b0",
   "metadata": {},
   "outputs": [
    {
     "data": {
      "image/png": "[encoded data removed]",
      "text/plain": [
       "<Figure size 640x480 with 1 Axes>"
      ]
     },
     "metadata": {},
     "output_type": "display_data"
    }
   ],
   "source": [
    "sns.scatterplot(x='Area_in_Marla', y='price', data=df)\n",
    "plt.title('Price vs Area in Marla')\n",
    "plt.show()"
   ]
  },
  {
   "cell_type": "code",
   "execution_count": 42,
   "id": "1e0e5500-918e-46ff-8270-1db18005b174",
   "metadata": {},
   "outputs": [
    {
     "data": {
      "text/html": [
       "<div>\n",
       "<style scoped>\n",
       "    .dataframe tbody tr th:only-of-type {\n",
       "        vertical-align: middle;\n",
       "    }\n",
       "\n",
       "    .dataframe tbody tr th {\n",
       "        vertical-align: top;\n",
       "    }\n",
       "\n",
       "    .dataframe thead th {\n",
       "        text-align: right;\n",
       "    }\n",
       "</style>\n",
       "<table border=\"1\" class=\"dataframe\">\n",
       "  <thead>\n",
       "    <tr style=\"text-align: right;\">\n",
       "      <th></th>\n",
       "      <th>price</th>\n",
       "      <th>baths</th>\n",
       "      <th>bedrooms</th>\n",
       "      <th>Area_in_Marla</th>\n",
       "    </tr>\n",
       "  </thead>\n",
       "  <tbody>\n",
       "    <tr>\n",
       "      <th>count</th>\n",
       "      <td>9.879300e+04</td>\n",
       "      <td>98793.000000</td>\n",
       "      <td>98793.000000</td>\n",
       "      <td>98793.000000</td>\n",
       "    </tr>\n",
       "    <tr>\n",
       "      <th>mean</th>\n",
       "      <td>1.040122e+07</td>\n",
       "      <td>3.528367</td>\n",
       "      <td>3.357991</td>\n",
       "      <td>8.501649</td>\n",
       "    </tr>\n",
       "    <tr>\n",
       "      <th>std</th>\n",
       "      <td>1.066091e+07</td>\n",
       "      <td>1.471188</td>\n",
       "      <td>1.243185</td>\n",
       "      <td>5.936689</td>\n",
       "    </tr>\n",
       "    <tr>\n",
       "      <th>min</th>\n",
       "      <td>1.550000e+04</td>\n",
       "      <td>1.000000</td>\n",
       "      <td>1.000000</td>\n",
       "      <td>0.200000</td>\n",
       "    </tr>\n",
       "    <tr>\n",
       "      <th>25%</th>\n",
       "      <td>1.500000e+05</td>\n",
       "      <td>2.000000</td>\n",
       "      <td>2.000000</td>\n",
       "      <td>4.800000</td>\n",
       "    </tr>\n",
       "    <tr>\n",
       "      <th>50%</th>\n",
       "      <td>7.500000e+06</td>\n",
       "      <td>3.000000</td>\n",
       "      <td>3.000000</td>\n",
       "      <td>6.700000</td>\n",
       "    </tr>\n",
       "    <tr>\n",
       "      <th>75%</th>\n",
       "      <td>1.570000e+07</td>\n",
       "      <td>5.000000</td>\n",
       "      <td>4.000000</td>\n",
       "      <td>10.000000</td>\n",
       "    </tr>\n",
       "    <tr>\n",
       "      <th>max</th>\n",
       "      <td>4.490000e+07</td>\n",
       "      <td>7.000000</td>\n",
       "      <td>6.000000</td>\n",
       "      <td>40.000000</td>\n",
       "    </tr>\n",
       "  </tbody>\n",
       "</table>\n",
       "</div>"
      ],
      "text/plain": [
       "              price         baths      bedrooms  Area_in_Marla\n",
       "count  9.879300e+04  98793.000000  98793.000000   98793.000000\n",
       "mean   1.040122e+07      3.528367      3.357991       8.501649\n",
       "std    1.066091e+07      1.471188      1.243185       5.936689\n",
       "min    1.550000e+04      1.000000      1.000000       0.200000\n",
       "25%    1.500000e+05      2.000000      2.000000       4.800000\n",
       "50%    7.500000e+06      3.000000      3.000000       6.700000\n",
       "75%    1.570000e+07      5.000000      4.000000      10.000000\n",
       "max    4.490000e+07      7.000000      6.000000      40.000000"
      ]
     },
     "execution_count": 42,
     "metadata": {},
     "output_type": "execute_result"
    }
   ],
   "source": [
    "df.describe()"
   ]
  },
  {
   "cell_type": "code",
   "execution_count": 43,
   "id": "59f140f3-6146-4c7a-bceb-5057cae32d50",
   "metadata": {},
   "outputs": [],
   "source": [
    "area_99 = df['Area_in_Marla'].quantile(0.99)\n",
    "df = df[df['Area_in_Marla'] <= area_99]"
   ]
  },
  {
   "cell_type": "code",
   "execution_count": 44,
   "id": "309d0475-281a-420d-a752-36877ec29f46",
   "metadata": {},
   "outputs": [
    {
     "data": {
      "text/html": [
       "<div>\n",
       "<style scoped>\n",
       "    .dataframe tbody tr th:only-of-type {\n",
       "        vertical-align: middle;\n",
       "    }\n",
       "\n",
       "    .dataframe tbody tr th {\n",
       "        vertical-align: top;\n",
       "    }\n",
       "\n",
       "    .dataframe thead th {\n",
       "        text-align: right;\n",
       "    }\n",
       "</style>\n",
       "<table border=\"1\" class=\"dataframe\">\n",
       "  <thead>\n",
       "    <tr style=\"text-align: right;\">\n",
       "      <th></th>\n",
       "      <th>property_type</th>\n",
       "      <th>price</th>\n",
       "      <th>location</th>\n",
       "      <th>city</th>\n",
       "      <th>baths</th>\n",
       "      <th>purpose</th>\n",
       "      <th>bedrooms</th>\n",
       "      <th>Area_in_Marla</th>\n",
       "      <th>full_location</th>\n",
       "      <th>type_city</th>\n",
       "    </tr>\n",
       "  </thead>\n",
       "  <tbody>\n",
       "    <tr>\n",
       "      <th>0</th>\n",
       "      <td>Flat</td>\n",
       "      <td>10000000</td>\n",
       "      <td>G-10</td>\n",
       "      <td>Islamabad</td>\n",
       "      <td>2</td>\n",
       "      <td>For Sale</td>\n",
       "      <td>2</td>\n",
       "      <td>4.0</td>\n",
       "      <td>Other</td>\n",
       "      <td>Flat - Islamabad</td>\n",
       "    </tr>\n",
       "    <tr>\n",
       "      <th>1</th>\n",
       "      <td>Flat</td>\n",
       "      <td>6900000</td>\n",
       "      <td>E-11</td>\n",
       "      <td>Islamabad</td>\n",
       "      <td>3</td>\n",
       "      <td>For Sale</td>\n",
       "      <td>3</td>\n",
       "      <td>5.6</td>\n",
       "      <td>Islamabad - E-11</td>\n",
       "      <td>Flat - Islamabad</td>\n",
       "    </tr>\n",
       "    <tr>\n",
       "      <th>2</th>\n",
       "      <td>House</td>\n",
       "      <td>16500000</td>\n",
       "      <td>G-15</td>\n",
       "      <td>Islamabad</td>\n",
       "      <td>6</td>\n",
       "      <td>For Sale</td>\n",
       "      <td>5</td>\n",
       "      <td>8.0</td>\n",
       "      <td>Islamabad - G-15</td>\n",
       "      <td>House - Islamabad</td>\n",
       "    </tr>\n",
       "    <tr>\n",
       "      <th>4</th>\n",
       "      <td>House</td>\n",
       "      <td>7000000</td>\n",
       "      <td>DHA Defence</td>\n",
       "      <td>Islamabad</td>\n",
       "      <td>3</td>\n",
       "      <td>For Sale</td>\n",
       "      <td>3</td>\n",
       "      <td>8.0</td>\n",
       "      <td>Islamabad - DHA Defence</td>\n",
       "      <td>House - Islamabad</td>\n",
       "    </tr>\n",
       "    <tr>\n",
       "      <th>5</th>\n",
       "      <td>Flat</td>\n",
       "      <td>7800000</td>\n",
       "      <td>E-11</td>\n",
       "      <td>Islamabad</td>\n",
       "      <td>2</td>\n",
       "      <td>For Sale</td>\n",
       "      <td>2</td>\n",
       "      <td>6.2</td>\n",
       "      <td>Islamabad - E-11</td>\n",
       "      <td>Flat - Islamabad</td>\n",
       "    </tr>\n",
       "  </tbody>\n",
       "</table>\n",
       "</div>"
      ],
      "text/plain": [
       "  property_type     price     location       city  baths   purpose  bedrooms  \\\n",
       "0          Flat  10000000         G-10  Islamabad      2  For Sale         2   \n",
       "1          Flat   6900000         E-11  Islamabad      3  For Sale         3   \n",
       "2         House  16500000         G-15  Islamabad      6  For Sale         5   \n",
       "4         House   7000000  DHA Defence  Islamabad      3  For Sale         3   \n",
       "5          Flat   7800000         E-11  Islamabad      2  For Sale         2   \n",
       "\n",
       "   Area_in_Marla            full_location          type_city  \n",
       "0            4.0                    Other   Flat - Islamabad  \n",
       "1            5.6         Islamabad - E-11   Flat - Islamabad  \n",
       "2            8.0         Islamabad - G-15  House - Islamabad  \n",
       "4            8.0  Islamabad - DHA Defence  House - Islamabad  \n",
       "5            6.2         Islamabad - E-11   Flat - Islamabad  "
      ]
     },
     "execution_count": 44,
     "metadata": {},
     "output_type": "execute_result"
    }
   ],
   "source": [
    "df.head()"
   ]
  },
  {
   "cell_type": "code",
   "execution_count": 45,
   "id": "200fe6a4-e427-4f53-8b0f-86b7c15583c8",
   "metadata": {},
   "outputs": [
    {
     "data": {
      "text/plain": [
       "Index(['property_type', 'price', 'location', 'city', 'baths', 'purpose',\n",
       "       'bedrooms', 'Area_in_Marla', 'full_location', 'type_city'],\n",
       "      dtype='object')"
      ]
     },
     "execution_count": 45,
     "metadata": {},
     "output_type": "execute_result"
    }
   ],
   "source": [
    "df.columns"
   ]
  },
  {
   "cell_type": "code",
   "execution_count": 46,
   "id": "c7150810-d7ec-4059-9891-3c4bd03fb34b",
   "metadata": {},
   "outputs": [],
   "source": [
    "df = df[['location','property_type', 'city', 'baths', 'purpose',\n",
    " 'bedrooms', 'Area_in_Marla', 'price']\n",
    "]"
   ]
  },
  {
   "cell_type": "code",
   "execution_count": 47,
   "id": "8096293f-ee87-4570-8199-facf84845f8d",
   "metadata": {},
   "outputs": [
    {
     "data": {
      "text/html": [
       "<div>\n",
       "<style scoped>\n",
       "    .dataframe tbody tr th:only-of-type {\n",
       "        vertical-align: middle;\n",
       "    }\n",
       "\n",
       "    .dataframe tbody tr th {\n",
       "        vertical-align: top;\n",
       "    }\n",
       "\n",
       "    .dataframe thead th {\n",
       "        text-align: right;\n",
       "    }\n",
       "</style>\n",
       "<table border=\"1\" class=\"dataframe\">\n",
       "  <thead>\n",
       "    <tr style=\"text-align: right;\">\n",
       "      <th></th>\n",
       "      <th>location</th>\n",
       "      <th>property_type</th>\n",
       "      <th>city</th>\n",
       "      <th>baths</th>\n",
       "      <th>purpose</th>\n",
       "      <th>bedrooms</th>\n",
       "      <th>Area_in_Marla</th>\n",
       "      <th>price</th>\n",
       "    </tr>\n",
       "  </thead>\n",
       "  <tbody>\n",
       "    <tr>\n",
       "      <th>0</th>\n",
       "      <td>G-10</td>\n",
       "      <td>Flat</td>\n",
       "      <td>Islamabad</td>\n",
       "      <td>2</td>\n",
       "      <td>For Sale</td>\n",
       "      <td>2</td>\n",
       "      <td>4.0</td>\n",
       "      <td>10000000</td>\n",
       "    </tr>\n",
       "    <tr>\n",
       "      <th>1</th>\n",
       "      <td>E-11</td>\n",
       "      <td>Flat</td>\n",
       "      <td>Islamabad</td>\n",
       "      <td>3</td>\n",
       "      <td>For Sale</td>\n",
       "      <td>3</td>\n",
       "      <td>5.6</td>\n",
       "      <td>6900000</td>\n",
       "    </tr>\n",
       "    <tr>\n",
       "      <th>2</th>\n",
       "      <td>G-15</td>\n",
       "      <td>House</td>\n",
       "      <td>Islamabad</td>\n",
       "      <td>6</td>\n",
       "      <td>For Sale</td>\n",
       "      <td>5</td>\n",
       "      <td>8.0</td>\n",
       "      <td>16500000</td>\n",
       "    </tr>\n",
       "    <tr>\n",
       "      <th>4</th>\n",
       "      <td>DHA Defence</td>\n",
       "      <td>House</td>\n",
       "      <td>Islamabad</td>\n",
       "      <td>3</td>\n",
       "      <td>For Sale</td>\n",
       "      <td>3</td>\n",
       "      <td>8.0</td>\n",
       "      <td>7000000</td>\n",
       "    </tr>\n",
       "    <tr>\n",
       "      <th>5</th>\n",
       "      <td>E-11</td>\n",
       "      <td>Flat</td>\n",
       "      <td>Islamabad</td>\n",
       "      <td>2</td>\n",
       "      <td>For Sale</td>\n",
       "      <td>2</td>\n",
       "      <td>6.2</td>\n",
       "      <td>7800000</td>\n",
       "    </tr>\n",
       "  </tbody>\n",
       "</table>\n",
       "</div>"
      ],
      "text/plain": [
       "      location property_type       city  baths   purpose  bedrooms  \\\n",
       "0         G-10          Flat  Islamabad      2  For Sale         2   \n",
       "1         E-11          Flat  Islamabad      3  For Sale         3   \n",
       "2         G-15         House  Islamabad      6  For Sale         5   \n",
       "4  DHA Defence         House  Islamabad      3  For Sale         3   \n",
       "5         E-11          Flat  Islamabad      2  For Sale         2   \n",
       "\n",
       "   Area_in_Marla     price  \n",
       "0            4.0  10000000  \n",
       "1            5.6   6900000  \n",
       "2            8.0  16500000  \n",
       "4            8.0   7000000  \n",
       "5            6.2   7800000  "
      ]
     },
     "execution_count": 47,
     "metadata": {},
     "output_type": "execute_result"
    }
   ],
   "source": [
    "df.head()"
   ]
  },
  {
   "cell_type": "code",
   "execution_count": 48,
   "id": "455d1be2-3554-409b-bf87-eb0637256037",
   "metadata": {},
   "outputs": [
    {
     "data": {
      "image/png": "[encoded data removed]",
      "text/plain": [
       "<Figure size 640x480 with 1 Axes>"
      ]
     },
     "metadata": {},
     "output_type": "display_data"
    }
   ],
   "source": [
    "sns.histplot(data=df, x='price', kde=True)\n",
    "plt.show()"
   ]
  },
  {
   "cell_type": "code",
   "execution_count": 49,
   "id": "bbf10d06-9a68-474f-b9d6-987231ec40bd",
   "metadata": {},
   "outputs": [
    {
     "data": {
      "text/plain": [
       "location         0\n",
       "property_type    0\n",
       "city             0\n",
       "baths            0\n",
       "purpose          0\n",
       "bedrooms         0\n",
       "Area_in_Marla    0\n",
       "price            0\n",
       "dtype: int64"
      ]
     },
     "execution_count": 49,
     "metadata": {},
     "output_type": "execute_result"
    }
   ],
   "source": [
    "df.isna().sum()"
   ]
  },
  {
   "cell_type": "code",
   "execution_count": 50,
   "id": "604b0d80-291e-4e46-8c12-cd59a71221ef",
   "metadata": {},
   "outputs": [
    {
     "data": {
      "text/html": [
       "<div>\n",
       "<style scoped>\n",
       "    .dataframe tbody tr th:only-of-type {\n",
       "        vertical-align: middle;\n",
       "    }\n",
       "\n",
       "    .dataframe tbody tr th {\n",
       "        vertical-align: top;\n",
       "    }\n",
       "\n",
       "    .dataframe thead th {\n",
       "        text-align: right;\n",
       "    }\n",
       "</style>\n",
       "<table border=\"1\" class=\"dataframe\">\n",
       "  <thead>\n",
       "    <tr style=\"text-align: right;\">\n",
       "      <th></th>\n",
       "      <th>location</th>\n",
       "      <th>property_type</th>\n",
       "      <th>city</th>\n",
       "      <th>baths</th>\n",
       "      <th>purpose</th>\n",
       "      <th>bedrooms</th>\n",
       "      <th>Area_in_Marla</th>\n",
       "      <th>price</th>\n",
       "    </tr>\n",
       "  </thead>\n",
       "  <tbody>\n",
       "    <tr>\n",
       "      <th>22</th>\n",
       "      <td>DHA Defence</td>\n",
       "      <td>House</td>\n",
       "      <td>Islamabad</td>\n",
       "      <td>5</td>\n",
       "      <td>For Rent</td>\n",
       "      <td>5</td>\n",
       "      <td>20.0</td>\n",
       "      <td>110000</td>\n",
       "    </tr>\n",
       "    <tr>\n",
       "      <th>24</th>\n",
       "      <td>G-15</td>\n",
       "      <td>Lower Portion</td>\n",
       "      <td>Islamabad</td>\n",
       "      <td>2</td>\n",
       "      <td>For Rent</td>\n",
       "      <td>2</td>\n",
       "      <td>8.0</td>\n",
       "      <td>33000</td>\n",
       "    </tr>\n",
       "    <tr>\n",
       "      <th>25</th>\n",
       "      <td>others</td>\n",
       "      <td>House</td>\n",
       "      <td>Islamabad</td>\n",
       "      <td>5</td>\n",
       "      <td>For Rent</td>\n",
       "      <td>3</td>\n",
       "      <td>24.0</td>\n",
       "      <td>45000</td>\n",
       "    </tr>\n",
       "    <tr>\n",
       "      <th>26</th>\n",
       "      <td>F-7</td>\n",
       "      <td>House</td>\n",
       "      <td>Islamabad</td>\n",
       "      <td>4</td>\n",
       "      <td>For Rent</td>\n",
       "      <td>4</td>\n",
       "      <td>13.3</td>\n",
       "      <td>175000</td>\n",
       "    </tr>\n",
       "    <tr>\n",
       "      <th>27</th>\n",
       "      <td>others</td>\n",
       "      <td>Lower Portion</td>\n",
       "      <td>Islamabad</td>\n",
       "      <td>2</td>\n",
       "      <td>For Rent</td>\n",
       "      <td>2</td>\n",
       "      <td>5.0</td>\n",
       "      <td>17000</td>\n",
       "    </tr>\n",
       "    <tr>\n",
       "      <th>...</th>\n",
       "      <td>...</td>\n",
       "      <td>...</td>\n",
       "      <td>...</td>\n",
       "      <td>...</td>\n",
       "      <td>...</td>\n",
       "      <td>...</td>\n",
       "      <td>...</td>\n",
       "      <td>...</td>\n",
       "    </tr>\n",
       "    <tr>\n",
       "      <th>99438</th>\n",
       "      <td>PWD Housing Scheme</td>\n",
       "      <td>House</td>\n",
       "      <td>Islamabad</td>\n",
       "      <td>6</td>\n",
       "      <td>For Rent</td>\n",
       "      <td>5</td>\n",
       "      <td>10.0</td>\n",
       "      <td>55000</td>\n",
       "    </tr>\n",
       "    <tr>\n",
       "      <th>99439</th>\n",
       "      <td>I-8</td>\n",
       "      <td>Upper Portion</td>\n",
       "      <td>Islamabad</td>\n",
       "      <td>3</td>\n",
       "      <td>For Rent</td>\n",
       "      <td>4</td>\n",
       "      <td>20.0</td>\n",
       "      <td>115000</td>\n",
       "    </tr>\n",
       "    <tr>\n",
       "      <th>99440</th>\n",
       "      <td>PWD Housing Scheme</td>\n",
       "      <td>Lower Portion</td>\n",
       "      <td>Islamabad</td>\n",
       "      <td>3</td>\n",
       "      <td>For Rent</td>\n",
       "      <td>3</td>\n",
       "      <td>12.0</td>\n",
       "      <td>45000</td>\n",
       "    </tr>\n",
       "    <tr>\n",
       "      <th>99441</th>\n",
       "      <td>F-7</td>\n",
       "      <td>House</td>\n",
       "      <td>Islamabad</td>\n",
       "      <td>6</td>\n",
       "      <td>For Rent</td>\n",
       "      <td>5</td>\n",
       "      <td>26.0</td>\n",
       "      <td>400000</td>\n",
       "    </tr>\n",
       "    <tr>\n",
       "      <th>99470</th>\n",
       "      <td>others</td>\n",
       "      <td>Upper Portion</td>\n",
       "      <td>Faisalabad</td>\n",
       "      <td>2</td>\n",
       "      <td>For Rent</td>\n",
       "      <td>2</td>\n",
       "      <td>12.0</td>\n",
       "      <td>25000</td>\n",
       "    </tr>\n",
       "  </tbody>\n",
       "</table>\n",
       "<p>27455 rows × 8 columns</p>\n",
       "</div>"
      ],
      "text/plain": [
       "                 location  property_type        city  baths   purpose  \\\n",
       "22            DHA Defence          House   Islamabad      5  For Rent   \n",
       "24                   G-15  Lower Portion   Islamabad      2  For Rent   \n",
       "25                 others          House   Islamabad      5  For Rent   \n",
       "26                    F-7          House   Islamabad      4  For Rent   \n",
       "27                 others  Lower Portion   Islamabad      2  For Rent   \n",
       "...                   ...            ...         ...    ...       ...   \n",
       "99438  PWD Housing Scheme          House   Islamabad      6  For Rent   \n",
       "99439                 I-8  Upper Portion   Islamabad      3  For Rent   \n",
       "99440  PWD Housing Scheme  Lower Portion   Islamabad      3  For Rent   \n",
       "99441                 F-7          House   Islamabad      6  For Rent   \n",
       "99470              others  Upper Portion  Faisalabad      2  For Rent   \n",
       "\n",
       "       bedrooms  Area_in_Marla   price  \n",
       "22            5           20.0  110000  \n",
       "24            2            8.0   33000  \n",
       "25            3           24.0   45000  \n",
       "26            4           13.3  175000  \n",
       "27            2            5.0   17000  \n",
       "...         ...            ...     ...  \n",
       "99438         5           10.0   55000  \n",
       "99439         4           20.0  115000  \n",
       "99440         3           12.0   45000  \n",
       "99441         5           26.0  400000  \n",
       "99470         2           12.0   25000  \n",
       "\n",
       "[27455 rows x 8 columns]"
      ]
     },
     "execution_count": 50,
     "metadata": {},
     "output_type": "execute_result"
    }
   ],
   "source": [
    "df[df['purpose'] == 'For Rent']"
   ]
  },
  {
   "cell_type": "code",
   "execution_count": 51,
   "id": "9a03e826-8d84-4add-804e-00637520f924",
   "metadata": {},
   "outputs": [],
   "source": [
    "df = df[df['purpose'] == 'For Sale']"
   ]
  },
  {
   "cell_type": "code",
   "execution_count": 52,
   "id": "3747d90b-eefa-4f10-a817-1cf0a0ae2f61",
   "metadata": {},
   "outputs": [
    {
     "data": {
      "text/plain": [
       "<Axes: xlabel='price', ylabel='Count'>"
      ]
     },
     "execution_count": 52,
     "metadata": {},
     "output_type": "execute_result"
    },
    {
     "data": {
      "image/png": "[encoded data removed]",
      "text/plain": [
       "<Figure size 640x480 with 1 Axes>"
      ]
     },
     "metadata": {},
     "output_type": "display_data"
    }
   ],
   "source": [
    "sns.histplot(x = 'price',data = df)"
   ]
  },
  {
   "cell_type": "code",
   "execution_count": 53,
   "id": "0b387743-d9b7-459b-a5ad-fee154782fd3",
   "metadata": {},
   "outputs": [
    {
     "data": {
      "text/plain": [
       "(70463, 8)"
      ]
     },
     "execution_count": 53,
     "metadata": {},
     "output_type": "execute_result"
    }
   ],
   "source": [
    "df.shape"
   ]
  },
  {
   "cell_type": "code",
   "execution_count": 54,
   "id": "5e071a43-58ef-40b6-a5ab-a31fb7735570",
   "metadata": {},
   "outputs": [
    {
     "data": {
      "text/plain": [
       "33390"
      ]
     },
     "execution_count": 54,
     "metadata": {},
     "output_type": "execute_result"
    }
   ],
   "source": [
    "df.duplicated().sum()"
   ]
  },
  {
   "cell_type": "code",
   "execution_count": 55,
   "id": "c7f180d2-7ec5-4c9e-b80c-9a7a6e796f20",
   "metadata": {},
   "outputs": [
    {
     "data": {
      "text/plain": [
       "purpose\n",
       "For Sale    70463\n",
       "Name: count, dtype: int64"
      ]
     },
     "execution_count": 55,
     "metadata": {},
     "output_type": "execute_result"
    }
   ],
   "source": [
    "df['purpose'].value_counts()"
   ]
  },
  {
   "cell_type": "code",
   "execution_count": 56,
   "id": "369ef65a-e645-4dbd-b361-8df49505f05a",
   "metadata": {},
   "outputs": [],
   "source": [
    "df =df[df['price'] > 400000]"
   ]
  },
  {
   "cell_type": "code",
   "execution_count": 57,
   "id": "2023f967-ee80-4fbf-be28-cba6d63c31d4",
   "metadata": {},
   "outputs": [
    {
     "data": {
      "text/plain": [
       "(70398, 8)"
      ]
     },
     "execution_count": 57,
     "metadata": {},
     "output_type": "execute_result"
    }
   ],
   "source": [
    "df.shape"
   ]
  },
  {
   "cell_type": "code",
   "execution_count": 58,
   "id": "99300f65-9d46-46be-ba7a-2b940332b016",
   "metadata": {},
   "outputs": [],
   "source": [
    "df = df[df['Area_in_Marla'] > 2.9]"
   ]
  },
  {
   "cell_type": "code",
   "execution_count": null,
   "id": "566f0317-f853-449e-ae38-6cddd2e19fd8",
   "metadata": {},
   "outputs": [],
   "source": []
  },
  {
   "cell_type": "code",
   "execution_count": null,
   "id": "b3822679-1caf-48f8-826a-1ec01bec4811",
   "metadata": {},
   "outputs": [],
   "source": []
  },
  {
   "cell_type": "code",
   "execution_count": null,
   "id": "cb24a7d8-0fab-4fed-9b24-08aac74236ec",
   "metadata": {},
   "outputs": [],
   "source": []
  },
  {
   "cell_type": "code",
   "execution_count": null,
   "id": "ae559824-9c26-4035-a92a-47f5d48283a2",
   "metadata": {},
   "outputs": [],
   "source": []
  },
  {
   "cell_type": "code",
   "execution_count": null,
   "id": "2a527591-73ed-4165-8abf-b00268493b14",
   "metadata": {},
   "outputs": [],
   "source": []
  },
  {
   "cell_type": "code",
   "execution_count": 59,
   "id": "1845219d-c78a-467d-920e-4dd90095a582",
   "metadata": {},
   "outputs": [
    {
     "data": {
      "text/plain": [
       "Index(['location', 'property_type', 'city', 'baths', 'purpose', 'bedrooms',\n",
       "       'Area_in_Marla', 'price'],\n",
       "      dtype='object')"
      ]
     },
     "execution_count": 59,
     "metadata": {},
     "output_type": "execute_result"
    }
   ],
   "source": [
    "df.columns"
   ]
  },
  {
   "cell_type": "markdown",
   "id": "0d428bb7-16b1-4557-af75-78776dcdf02b",
   "metadata": {},
   "source": [
    "# Model Building"
   ]
  },
  {
   "cell_type": "code",
   "execution_count": 60,
   "id": "22e6f2de-ae0c-4dfb-bc07-41deebd4fcbf",
   "metadata": {},
   "outputs": [],
   "source": [
    "X = df.drop(columns = ['price','purpose'],axis = 1)\n",
    "y= df['price']"
   ]
  },
  {
   "cell_type": "code",
   "execution_count": 61,
   "id": "e1c7fa6a-2d24-4757-a740-4cad831cbdeb",
   "metadata": {},
   "outputs": [
    {
     "data": {
      "text/plain": [
       "Index(['location', 'property_type', 'city', 'baths', 'bedrooms',\n",
       "       'Area_in_Marla'],\n",
       "      dtype='object')"
      ]
     },
     "execution_count": 61,
     "metadata": {},
     "output_type": "execute_result"
    }
   ],
   "source": [
    "X.columns"
   ]
  },
  {
   "cell_type": "code",
   "execution_count": 62,
   "id": "2de45244-8b36-4775-af1d-62d0c612424d",
   "metadata": {},
   "outputs": [],
   "source": [
    "from sklearn.model_selection import train_test_split"
   ]
  },
  {
   "cell_type": "code",
   "execution_count": 63,
   "id": "00b40029-bb62-4543-82a7-37a9d969f1e7",
   "metadata": {},
   "outputs": [],
   "source": [
    "X_train,X_test,y_train,y_test = train_test_split(X,y,test_size = 0.2,random_state =42 )"
   ]
  },
  {
   "cell_type": "code",
   "execution_count": 64,
   "id": "a5de8408-391d-450a-8faf-d01332f4bd10",
   "metadata": {},
   "outputs": [],
   "source": [
    "from sklearn.linear_model import LinearRegression,Lasso,Ridge\n",
    "from sklearn.preprocessing import OneHotEncoder, MinMaxScaler"
   ]
  },
  {
   "cell_type": "code",
   "execution_count": 65,
   "id": "581836e6-a0e9-4735-84a3-91079eb451e9",
   "metadata": {},
   "outputs": [],
   "source": [
    "from sklearn.preprocessing import OneHotEncoder\n",
    "import pandas as pd\n",
    "\n",
    "# 1. Define and fit the encoder on both columns\n",
    "ohe = OneHotEncoder(sparse_output=False, handle_unknown='ignore')\n",
    "ohe.fit(X_train[['location','property_type', 'city']])\n",
    "\n",
    "# 2. Transform the training data\n",
    "encoded_train = pd.DataFrame(\n",
    "    ohe.transform(X_train[['location','property_type', 'city']]),\n",
    "    columns=ohe.get_feature_names_out(['location','property_type', 'city']),\n",
    "    index=X_train.index\n",
    ")\n",
    "\n",
    "# 3. Transform the test data\n",
    "encoded_test = pd.DataFrame(\n",
    "    ohe.transform(X_test[['location','property_type', 'city']]),\n",
    "    columns=ohe.get_feature_names_out(['location','property_type', 'city']),\n",
    "    index=X_test.index\n",
    ")\n",
    "\n",
    "# 4. Drop the original columns and concatenate the encoded ones\n",
    "X_train = X_train.drop(['location','property_type', 'city'], axis=1)\n",
    "X_test = X_test.drop(['location','property_type', 'city'], axis=1)\n",
    "\n",
    "X_train = pd.concat([X_train, encoded_train], axis=1)\n",
    "X_test = pd.concat([X_test, encoded_test], axis=1)\n"
   ]
  },
  {
   "cell_type": "code",
   "execution_count": null,
   "id": "3242c9e6-7aa0-435c-92a4-e674e3b20df7",
   "metadata": {},
   "outputs": [],
   "source": []
  },
  {
   "cell_type": "code",
   "execution_count": 67,
   "id": "52ea90ab-1dda-464c-b11b-cdd75aa8da40",
   "metadata": {},
   "outputs": [
    {
     "data": {
      "text/html": [
       "<div>\n",
       "<style scoped>\n",
       "    .dataframe tbody tr th:only-of-type {\n",
       "        vertical-align: middle;\n",
       "    }\n",
       "\n",
       "    .dataframe tbody tr th {\n",
       "        vertical-align: top;\n",
       "    }\n",
       "\n",
       "    .dataframe thead th {\n",
       "        text-align: right;\n",
       "    }\n",
       "</style>\n",
       "<table border=\"1\" class=\"dataframe\">\n",
       "  <thead>\n",
       "    <tr style=\"text-align: right;\">\n",
       "      <th></th>\n",
       "      <th>baths</th>\n",
       "      <th>bedrooms</th>\n",
       "      <th>Area_in_Marla</th>\n",
       "      <th>location_Adiala Road</th>\n",
       "      <th>location_Airport Housing Society</th>\n",
       "      <th>location_Al Rehman Garden</th>\n",
       "      <th>location_Allama Iqbal Town</th>\n",
       "      <th>location_Askari</th>\n",
       "      <th>location_B-17</th>\n",
       "      <th>location_Bahria Orchard</th>\n",
       "      <th>...</th>\n",
       "      <th>property_type_Flat</th>\n",
       "      <th>property_type_House</th>\n",
       "      <th>property_type_Lower Portion</th>\n",
       "      <th>property_type_Other</th>\n",
       "      <th>property_type_Upper Portion</th>\n",
       "      <th>city_Faisalabad</th>\n",
       "      <th>city_Islamabad</th>\n",
       "      <th>city_Karachi</th>\n",
       "      <th>city_Lahore</th>\n",
       "      <th>city_Rawalpindi</th>\n",
       "    </tr>\n",
       "  </thead>\n",
       "  <tbody>\n",
       "    <tr>\n",
       "      <th>61914</th>\n",
       "      <td>2</td>\n",
       "      <td>2</td>\n",
       "      <td>4.0</td>\n",
       "      <td>0.0</td>\n",
       "      <td>0.0</td>\n",
       "      <td>0.0</td>\n",
       "      <td>0.0</td>\n",
       "      <td>0.0</td>\n",
       "      <td>0.0</td>\n",
       "      <td>0.0</td>\n",
       "      <td>...</td>\n",
       "      <td>1.0</td>\n",
       "      <td>0.0</td>\n",
       "      <td>0.0</td>\n",
       "      <td>0.0</td>\n",
       "      <td>0.0</td>\n",
       "      <td>0.0</td>\n",
       "      <td>0.0</td>\n",
       "      <td>1.0</td>\n",
       "      <td>0.0</td>\n",
       "      <td>0.0</td>\n",
       "    </tr>\n",
       "    <tr>\n",
       "      <th>79501</th>\n",
       "      <td>5</td>\n",
       "      <td>5</td>\n",
       "      <td>10.0</td>\n",
       "      <td>0.0</td>\n",
       "      <td>0.0</td>\n",
       "      <td>0.0</td>\n",
       "      <td>0.0</td>\n",
       "      <td>0.0</td>\n",
       "      <td>0.0</td>\n",
       "      <td>0.0</td>\n",
       "      <td>...</td>\n",
       "      <td>0.0</td>\n",
       "      <td>1.0</td>\n",
       "      <td>0.0</td>\n",
       "      <td>0.0</td>\n",
       "      <td>0.0</td>\n",
       "      <td>0.0</td>\n",
       "      <td>0.0</td>\n",
       "      <td>0.0</td>\n",
       "      <td>1.0</td>\n",
       "      <td>0.0</td>\n",
       "    </tr>\n",
       "    <tr>\n",
       "      <th>52749</th>\n",
       "      <td>2</td>\n",
       "      <td>3</td>\n",
       "      <td>6.0</td>\n",
       "      <td>0.0</td>\n",
       "      <td>0.0</td>\n",
       "      <td>0.0</td>\n",
       "      <td>0.0</td>\n",
       "      <td>0.0</td>\n",
       "      <td>0.0</td>\n",
       "      <td>0.0</td>\n",
       "      <td>...</td>\n",
       "      <td>0.0</td>\n",
       "      <td>1.0</td>\n",
       "      <td>0.0</td>\n",
       "      <td>0.0</td>\n",
       "      <td>0.0</td>\n",
       "      <td>0.0</td>\n",
       "      <td>0.0</td>\n",
       "      <td>0.0</td>\n",
       "      <td>1.0</td>\n",
       "      <td>0.0</td>\n",
       "    </tr>\n",
       "    <tr>\n",
       "      <th>98622</th>\n",
       "      <td>4</td>\n",
       "      <td>3</td>\n",
       "      <td>5.0</td>\n",
       "      <td>0.0</td>\n",
       "      <td>0.0</td>\n",
       "      <td>0.0</td>\n",
       "      <td>0.0</td>\n",
       "      <td>0.0</td>\n",
       "      <td>0.0</td>\n",
       "      <td>0.0</td>\n",
       "      <td>...</td>\n",
       "      <td>0.0</td>\n",
       "      <td>1.0</td>\n",
       "      <td>0.0</td>\n",
       "      <td>0.0</td>\n",
       "      <td>0.0</td>\n",
       "      <td>0.0</td>\n",
       "      <td>0.0</td>\n",
       "      <td>0.0</td>\n",
       "      <td>1.0</td>\n",
       "      <td>0.0</td>\n",
       "    </tr>\n",
       "    <tr>\n",
       "      <th>55790</th>\n",
       "      <td>3</td>\n",
       "      <td>3</td>\n",
       "      <td>5.0</td>\n",
       "      <td>0.0</td>\n",
       "      <td>0.0</td>\n",
       "      <td>0.0</td>\n",
       "      <td>0.0</td>\n",
       "      <td>0.0</td>\n",
       "      <td>0.0</td>\n",
       "      <td>0.0</td>\n",
       "      <td>...</td>\n",
       "      <td>0.0</td>\n",
       "      <td>1.0</td>\n",
       "      <td>0.0</td>\n",
       "      <td>0.0</td>\n",
       "      <td>0.0</td>\n",
       "      <td>1.0</td>\n",
       "      <td>0.0</td>\n",
       "      <td>0.0</td>\n",
       "      <td>0.0</td>\n",
       "      <td>0.0</td>\n",
       "    </tr>\n",
       "  </tbody>\n",
       "</table>\n",
       "<p>5 rows × 63 columns</p>\n",
       "</div>"
      ],
      "text/plain": [
       "       baths  bedrooms  Area_in_Marla  location_Adiala Road  \\\n",
       "61914      2         2            4.0                   0.0   \n",
       "79501      5         5           10.0                   0.0   \n",
       "52749      2         3            6.0                   0.0   \n",
       "98622      4         3            5.0                   0.0   \n",
       "55790      3         3            5.0                   0.0   \n",
       "\n",
       "       location_Airport Housing Society  location_Al Rehman Garden  \\\n",
       "61914                               0.0                        0.0   \n",
       "79501                               0.0                        0.0   \n",
       "52749                               0.0                        0.0   \n",
       "98622                               0.0                        0.0   \n",
       "55790                               0.0                        0.0   \n",
       "\n",
       "       location_Allama Iqbal Town  location_Askari  location_B-17  \\\n",
       "61914                         0.0              0.0            0.0   \n",
       "79501                         0.0              0.0            0.0   \n",
       "52749                         0.0              0.0            0.0   \n",
       "98622                         0.0              0.0            0.0   \n",
       "55790                         0.0              0.0            0.0   \n",
       "\n",
       "       location_Bahria Orchard  ...  property_type_Flat  property_type_House  \\\n",
       "61914                      0.0  ...                 1.0                  0.0   \n",
       "79501                      0.0  ...                 0.0                  1.0   \n",
       "52749                      0.0  ...                 0.0                  1.0   \n",
       "98622                      0.0  ...                 0.0                  1.0   \n",
       "55790                      0.0  ...                 0.0                  1.0   \n",
       "\n",
       "       property_type_Lower Portion  property_type_Other  \\\n",
       "61914                          0.0                  0.0   \n",
       "79501                          0.0                  0.0   \n",
       "52749                          0.0                  0.0   \n",
       "98622                          0.0                  0.0   \n",
       "55790                          0.0                  0.0   \n",
       "\n",
       "       property_type_Upper Portion  city_Faisalabad  city_Islamabad  \\\n",
       "61914                          0.0              0.0             0.0   \n",
       "79501                          0.0              0.0             0.0   \n",
       "52749                          0.0              0.0             0.0   \n",
       "98622                          0.0              0.0             0.0   \n",
       "55790                          0.0              1.0             0.0   \n",
       "\n",
       "       city_Karachi  city_Lahore  city_Rawalpindi  \n",
       "61914           1.0          0.0              0.0  \n",
       "79501           0.0          1.0              0.0  \n",
       "52749           0.0          1.0              0.0  \n",
       "98622           0.0          1.0              0.0  \n",
       "55790           0.0          0.0              0.0  \n",
       "\n",
       "[5 rows x 63 columns]"
      ]
     },
     "execution_count": 67,
     "metadata": {},
     "output_type": "execute_result"
    }
   ],
   "source": [
    "X_train.head()"
   ]
  },
  {
   "cell_type": "code",
   "execution_count": 68,
   "id": "09067846-c36b-4f9b-8ada-e1de3a76a8ff",
   "metadata": {},
   "outputs": [
    {
     "data": {
      "text/plain": [
       "(52468, 63)"
      ]
     },
     "execution_count": 68,
     "metadata": {},
     "output_type": "execute_result"
    }
   ],
   "source": [
    "X_train.shape"
   ]
  },
  {
   "cell_type": "code",
   "execution_count": 69,
   "id": "89b2ffaa-71e8-4076-877c-cd2c600fef10",
   "metadata": {},
   "outputs": [],
   "source": [
    "scaler = MinMaxScaler()"
   ]
  },
  {
   "cell_type": "code",
   "execution_count": 70,
   "id": "31914d76-f2c1-409e-a8bd-750b5904c508",
   "metadata": {},
   "outputs": [
    {
     "data": {
      "text/html": [
       "<style>#sk-container-id-1 {\n",
       "  /* Definition of color scheme common for light and dark mode */\n",
       "  --sklearn-color-text: #000;\n",
       "  --sklearn-color-text-muted: #666;\n",
       "  --sklearn-color-line: gray;\n",
       "  /* Definition of color scheme for unfitted estimators */\n",
       "  --sklearn-color-unfitted-level-0: #fff5e6;\n",
       "  --sklearn-color-unfitted-level-1: #f6e4d2;\n",
       "  --sklearn-color-unfitted-level-2: #ffe0b3;\n",
       "  --sklearn-color-unfitted-level-3: chocolate;\n",
       "  /* Definition of color scheme for fitted estimators */\n",
       "  --sklearn-color-fitted-level-0: #f0f8ff;\n",
       "  --sklearn-color-fitted-level-1: #d4ebff;\n",
       "  --sklearn-color-fitted-level-2: #b3dbfd;\n",
       "  --sklearn-color-fitted-level-3: cornflowerblue;\n",
       "\n",
       "  /* Specific color for light theme */\n",
       "  --sklearn-color-text-on-default-background: var(--sg-text-color, var(--theme-code-foreground, var(--jp-content-font-color1, black)));\n",
       "  --sklearn-color-background: var(--sg-background-color, var(--theme-background, var(--jp-layout-color0, white)));\n",
       "  --sklearn-color-border-box: var(--sg-text-color, var(--theme-code-foreground, var(--jp-content-font-color1, black)));\n",
       "  --sklearn-color-icon: #696969;\n",
       "\n",
       "  @media (prefers-color-scheme: dark) {\n",
       "    /* Redefinition of color scheme for dark theme */\n",
       "    --sklearn-color-text-on-default-background: var(--sg-text-color, var(--theme-code-foreground, var(--jp-content-font-color1, white)));\n",
       "    --sklearn-color-background: var(--sg-background-color, var(--theme-background, var(--jp-layout-color0, #111)));\n",
       "    --sklearn-color-border-box: var(--sg-text-color, var(--theme-code-foreground, var(--jp-content-font-color1, white)));\n",
       "    --sklearn-color-icon: #878787;\n",
       "  }\n",
       "}\n",
       "\n",
       "#sk-container-id-1 {\n",
       "  color: var(--sklearn-color-text);\n",
       "}\n",
       "\n",
       "#sk-container-id-1 pre {\n",
       "  padding: 0;\n",
       "}\n",
       "\n",
       "#sk-container-id-1 input.sk-hidden--visually {\n",
       "  border: 0;\n",
       "  clip: rect(1px 1px 1px 1px);\n",
       "  clip: rect(1px, 1px, 1px, 1px);\n",
       "  height: 1px;\n",
       "  margin: -1px;\n",
       "  overflow: hidden;\n",
       "  padding: 0;\n",
       "  position: absolute;\n",
       "  width: 1px;\n",
       "}\n",
       "\n",
       "#sk-container-id-1 div.sk-dashed-wrapped {\n",
       "  border: 1px dashed var(--sklearn-color-line);\n",
       "  margin: 0 0.4em 0.5em 0.4em;\n",
       "  box-sizing: border-box;\n",
       "  padding-bottom: 0.4em;\n",
       "  background-color: var(--sklearn-color-background);\n",
       "}\n",
       "\n",
       "#sk-container-id-1 div.sk-container {\n",
       "  /* jupyter's `normalize.less` sets `[hidden] { display: none; }`\n",
       "     but bootstrap.min.css set `[hidden] { display: none !important; }`\n",
       "     so we also need the `!important` here to be able to override the\n",
       "     default hidden behavior on the sphinx rendered scikit-learn.org.\n",
       "     See: https://github.com/scikit-learn/scikit-learn/issues/21755 */\n",
       "  display: inline-block !important;\n",
       "  position: relative;\n",
       "}\n",
       "\n",
       "#sk-container-id-1 div.sk-text-repr-fallback {\n",
       "  display: none;\n",
       "}\n",
       "\n",
       "div.sk-parallel-item,\n",
       "div.sk-serial,\n",
       "div.sk-item {\n",
       "  /* draw centered vertical line to link estimators */\n",
       "  background-image: linear-gradient(var(--sklearn-color-text-on-default-background), var(--sklearn-color-text-on-default-background));\n",
       "  background-size: 2px 100%;\n",
       "  background-repeat: no-repeat;\n",
       "  background-position: center center;\n",
       "}\n",
       "\n",
       "/* Parallel-specific style estimator block */\n",
       "\n",
       "#sk-container-id-1 div.sk-parallel-item::after {\n",
       "  content: \"\";\n",
       "  width: 100%;\n",
       "  border-bottom: 2px solid var(--sklearn-color-text-on-default-background);\n",
       "  flex-grow: 1;\n",
       "}\n",
       "\n",
       "#sk-container-id-1 div.sk-parallel {\n",
       "  display: flex;\n",
       "  align-items: stretch;\n",
       "  justify-content: center;\n",
       "  background-color: var(--sklearn-color-background);\n",
       "  position: relative;\n",
       "}\n",
       "\n",
       "#sk-container-id-1 div.sk-parallel-item {\n",
       "  display: flex;\n",
       "  flex-direction: column;\n",
       "}\n",
       "\n",
       "#sk-container-id-1 div.sk-parallel-item:first-child::after {\n",
       "  align-self: flex-end;\n",
       "  width: 50%;\n",
       "}\n",
       "\n",
       "#sk-container-id-1 div.sk-parallel-item:last-child::after {\n",
       "  align-self: flex-start;\n",
       "  width: 50%;\n",
       "}\n",
       "\n",
       "#sk-container-id-1 div.sk-parallel-item:only-child::after {\n",
       "  width: 0;\n",
       "}\n",
       "\n",
       "/* Serial-specific style estimator block */\n",
       "\n",
       "#sk-container-id-1 div.sk-serial {\n",
       "  display: flex;\n",
       "  flex-direction: column;\n",
       "  align-items: center;\n",
       "  background-color: var(--sklearn-color-background);\n",
       "  padding-right: 1em;\n",
       "  padding-left: 1em;\n",
       "}\n",
       "\n",
       "\n",
       "/* Toggleable style: style used for estimator/Pipeline/ColumnTransformer box that is\n",
       "clickable and can be expanded/collapsed.\n",
       "- Pipeline and ColumnTransformer use this feature and define the default style\n",
       "- Estimators will overwrite some part of the style using the `sk-estimator` class\n",
       "*/\n",
       "\n",
       "/* Pipeline and ColumnTransformer style (default) */\n",
       "\n",
       "#sk-container-id-1 div.sk-toggleable {\n",
       "  /* Default theme specific background. It is overwritten whether we have a\n",
       "  specific estimator or a Pipeline/ColumnTransformer */\n",
       "  background-color: var(--sklearn-color-background);\n",
       "}\n",
       "\n",
       "/* Toggleable label */\n",
       "#sk-container-id-1 label.sk-toggleable__label {\n",
       "  cursor: pointer;\n",
       "  display: flex;\n",
       "  width: 100%;\n",
       "  margin-bottom: 0;\n",
       "  padding: 0.5em;\n",
       "  box-sizing: border-box;\n",
       "  text-align: center;\n",
       "  align-items: start;\n",
       "  justify-content: space-between;\n",
       "  gap: 0.5em;\n",
       "}\n",
       "\n",
       "#sk-container-id-1 label.sk-toggleable__label .caption {\n",
       "  font-size: 0.6rem;\n",
       "  font-weight: lighter;\n",
       "  color: var(--sklearn-color-text-muted);\n",
       "}\n",
       "\n",
       "#sk-container-id-1 label.sk-toggleable__label-arrow:before {\n",
       "  /* Arrow on the left of the label */\n",
       "  content: \"▸\";\n",
       "  float: left;\n",
       "  margin-right: 0.25em;\n",
       "  color: var(--sklearn-color-icon);\n",
       "}\n",
       "\n",
       "#sk-container-id-1 label.sk-toggleable__label-arrow:hover:before {\n",
       "  color: var(--sklearn-color-text);\n",
       "}\n",
       "\n",
       "/* Toggleable content - dropdown */\n",
       "\n",
       "#sk-container-id-1 div.sk-toggleable__content {\n",
       "  max-height: 0;\n",
       "  max-width: 0;\n",
       "  overflow: hidden;\n",
       "  text-align: left;\n",
       "  /* unfitted */\n",
       "  background-color: var(--sklearn-color-unfitted-level-0);\n",
       "}\n",
       "\n",
       "#sk-container-id-1 div.sk-toggleable__content.fitted {\n",
       "  /* fitted */\n",
       "  background-color: var(--sklearn-color-fitted-level-0);\n",
       "}\n",
       "\n",
       "#sk-container-id-1 div.sk-toggleable__content pre {\n",
       "  margin: 0.2em;\n",
       "  border-radius: 0.25em;\n",
       "  color: var(--sklearn-color-text);\n",
       "  /* unfitted */\n",
       "  background-color: var(--sklearn-color-unfitted-level-0);\n",
       "}\n",
       "\n",
       "#sk-container-id-1 div.sk-toggleable__content.fitted pre {\n",
       "  /* unfitted */\n",
       "  background-color: var(--sklearn-color-fitted-level-0);\n",
       "}\n",
       "\n",
       "#sk-container-id-1 input.sk-toggleable__control:checked~div.sk-toggleable__content {\n",
       "  /* Expand drop-down */\n",
       "  max-height: 200px;\n",
       "  max-width: 100%;\n",
       "  overflow: auto;\n",
       "}\n",
       "\n",
       "#sk-container-id-1 input.sk-toggleable__control:checked~label.sk-toggleable__label-arrow:before {\n",
       "  content: \"▾\";\n",
       "}\n",
       "\n",
       "/* Pipeline/ColumnTransformer-specific style */\n",
       "\n",
       "#sk-container-id-1 div.sk-label input.sk-toggleable__control:checked~label.sk-toggleable__label {\n",
       "  color: var(--sklearn-color-text);\n",
       "  background-color: var(--sklearn-color-unfitted-level-2);\n",
       "}\n",
       "\n",
       "#sk-container-id-1 div.sk-label.fitted input.sk-toggleable__control:checked~label.sk-toggleable__label {\n",
       "  background-color: var(--sklearn-color-fitted-level-2);\n",
       "}\n",
       "\n",
       "/* Estimator-specific style */\n",
       "\n",
       "/* Colorize estimator box */\n",
       "#sk-container-id-1 div.sk-estimator input.sk-toggleable__control:checked~label.sk-toggleable__label {\n",
       "  /* unfitted */\n",
       "  background-color: var(--sklearn-color-unfitted-level-2);\n",
       "}\n",
       "\n",
       "#sk-container-id-1 div.sk-estimator.fitted input.sk-toggleable__control:checked~label.sk-toggleable__label {\n",
       "  /* fitted */\n",
       "  background-color: var(--sklearn-color-fitted-level-2);\n",
       "}\n",
       "\n",
       "#sk-container-id-1 div.sk-label label.sk-toggleable__label,\n",
       "#sk-container-id-1 div.sk-label label {\n",
       "  /* The background is the default theme color */\n",
       "  color: var(--sklearn-color-text-on-default-background);\n",
       "}\n",
       "\n",
       "/* On hover, darken the color of the background */\n",
       "#sk-container-id-1 div.sk-label:hover label.sk-toggleable__label {\n",
       "  color: var(--sklearn-color-text);\n",
       "  background-color: var(--sklearn-color-unfitted-level-2);\n",
       "}\n",
       "\n",
       "/* Label box, darken color on hover, fitted */\n",
       "#sk-container-id-1 div.sk-label.fitted:hover label.sk-toggleable__label.fitted {\n",
       "  color: var(--sklearn-color-text);\n",
       "  background-color: var(--sklearn-color-fitted-level-2);\n",
       "}\n",
       "\n",
       "/* Estimator label */\n",
       "\n",
       "#sk-container-id-1 div.sk-label label {\n",
       "  font-family: monospace;\n",
       "  font-weight: bold;\n",
       "  display: inline-block;\n",
       "  line-height: 1.2em;\n",
       "}\n",
       "\n",
       "#sk-container-id-1 div.sk-label-container {\n",
       "  text-align: center;\n",
       "}\n",
       "\n",
       "/* Estimator-specific */\n",
       "#sk-container-id-1 div.sk-estimator {\n",
       "  font-family: monospace;\n",
       "  border: 1px dotted var(--sklearn-color-border-box);\n",
       "  border-radius: 0.25em;\n",
       "  box-sizing: border-box;\n",
       "  margin-bottom: 0.5em;\n",
       "  /* unfitted */\n",
       "  background-color: var(--sklearn-color-unfitted-level-0);\n",
       "}\n",
       "\n",
       "#sk-container-id-1 div.sk-estimator.fitted {\n",
       "  /* fitted */\n",
       "  background-color: var(--sklearn-color-fitted-level-0);\n",
       "}\n",
       "\n",
       "/* on hover */\n",
       "#sk-container-id-1 div.sk-estimator:hover {\n",
       "  /* unfitted */\n",
       "  background-color: var(--sklearn-color-unfitted-level-2);\n",
       "}\n",
       "\n",
       "#sk-container-id-1 div.sk-estimator.fitted:hover {\n",
       "  /* fitted */\n",
       "  background-color: var(--sklearn-color-fitted-level-2);\n",
       "}\n",
       "\n",
       "/* Specification for estimator info (e.g. \"i\" and \"?\") */\n",
       "\n",
       "/* Common style for \"i\" and \"?\" */\n",
       "\n",
       ".sk-estimator-doc-link,\n",
       "a:link.sk-estimator-doc-link,\n",
       "a:visited.sk-estimator-doc-link {\n",
       "  float: right;\n",
       "  font-size: smaller;\n",
       "  line-height: 1em;\n",
       "  font-family: monospace;\n",
       "  background-color: var(--sklearn-color-background);\n",
       "  border-radius: 1em;\n",
       "  height: 1em;\n",
       "  width: 1em;\n",
       "  text-decoration: none !important;\n",
       "  margin-left: 0.5em;\n",
       "  text-align: center;\n",
       "  /* unfitted */\n",
       "  border: var(--sklearn-color-unfitted-level-1) 1pt solid;\n",
       "  color: var(--sklearn-color-unfitted-level-1);\n",
       "}\n",
       "\n",
       ".sk-estimator-doc-link.fitted,\n",
       "a:link.sk-estimator-doc-link.fitted,\n",
       "a:visited.sk-estimator-doc-link.fitted {\n",
       "  /* fitted */\n",
       "  border: var(--sklearn-color-fitted-level-1) 1pt solid;\n",
       "  color: var(--sklearn-color-fitted-level-1);\n",
       "}\n",
       "\n",
       "/* On hover */\n",
       "div.sk-estimator:hover .sk-estimator-doc-link:hover,\n",
       ".sk-estimator-doc-link:hover,\n",
       "div.sk-label-container:hover .sk-estimator-doc-link:hover,\n",
       ".sk-estimator-doc-link:hover {\n",
       "  /* unfitted */\n",
       "  background-color: var(--sklearn-color-unfitted-level-3);\n",
       "  color: var(--sklearn-color-background);\n",
       "  text-decoration: none;\n",
       "}\n",
       "\n",
       "div.sk-estimator.fitted:hover .sk-estimator-doc-link.fitted:hover,\n",
       ".sk-estimator-doc-link.fitted:hover,\n",
       "div.sk-label-container:hover .sk-estimator-doc-link.fitted:hover,\n",
       ".sk-estimator-doc-link.fitted:hover {\n",
       "  /* fitted */\n",
       "  background-color: var(--sklearn-color-fitted-level-3);\n",
       "  color: var(--sklearn-color-background);\n",
       "  text-decoration: none;\n",
       "}\n",
       "\n",
       "/* Span, style for the box shown on hovering the info icon */\n",
       ".sk-estimator-doc-link span {\n",
       "  display: none;\n",
       "  z-index: 9999;\n",
       "  position: relative;\n",
       "  font-weight: normal;\n",
       "  right: .2ex;\n",
       "  padding: .5ex;\n",
       "  margin: .5ex;\n",
       "  width: min-content;\n",
       "  min-width: 20ex;\n",
       "  max-width: 50ex;\n",
       "  color: var(--sklearn-color-text);\n",
       "  box-shadow: 2pt 2pt 4pt #999;\n",
       "  /* unfitted */\n",
       "  background: var(--sklearn-color-unfitted-level-0);\n",
       "  border: .5pt solid var(--sklearn-color-unfitted-level-3);\n",
       "}\n",
       "\n",
       ".sk-estimator-doc-link.fitted span {\n",
       "  /* fitted */\n",
       "  background: var(--sklearn-color-fitted-level-0);\n",
       "  border: var(--sklearn-color-fitted-level-3);\n",
       "}\n",
       "\n",
       ".sk-estimator-doc-link:hover span {\n",
       "  display: block;\n",
       "}\n",
       "\n",
       "/* \"?\"-specific style due to the `<a>` HTML tag */\n",
       "\n",
       "#sk-container-id-1 a.estimator_doc_link {\n",
       "  float: right;\n",
       "  font-size: 1rem;\n",
       "  line-height: 1em;\n",
       "  font-family: monospace;\n",
       "  background-color: var(--sklearn-color-background);\n",
       "  border-radius: 1rem;\n",
       "  height: 1rem;\n",
       "  width: 1rem;\n",
       "  text-decoration: none;\n",
       "  /* unfitted */\n",
       "  color: var(--sklearn-color-unfitted-level-1);\n",
       "  border: var(--sklearn-color-unfitted-level-1) 1pt solid;\n",
       "}\n",
       "\n",
       "#sk-container-id-1 a.estimator_doc_link.fitted {\n",
       "  /* fitted */\n",
       "  border: var(--sklearn-color-fitted-level-1) 1pt solid;\n",
       "  color: var(--sklearn-color-fitted-level-1);\n",
       "}\n",
       "\n",
       "/* On hover */\n",
       "#sk-container-id-1 a.estimator_doc_link:hover {\n",
       "  /* unfitted */\n",
       "  background-color: var(--sklearn-color-unfitted-level-3);\n",
       "  color: var(--sklearn-color-background);\n",
       "  text-decoration: none;\n",
       "}\n",
       "\n",
       "#sk-container-id-1 a.estimator_doc_link.fitted:hover {\n",
       "  /* fitted */\n",
       "  background-color: var(--sklearn-color-fitted-level-3);\n",
       "}\n",
       "</style><div id=\"sk-container-id-1\" class=\"sk-top-container\"><div class=\"sk-text-repr-fallback\"><pre>MinMaxScaler()</pre><b>In a Jupyter environment, please rerun this cell to show the HTML representation or trust the notebook. <br />On GitHub, the HTML representation is unable to render, please try loading this page with nbviewer.org.</b></div><div class=\"sk-container\" hidden><div class=\"sk-item\"><div class=\"sk-estimator fitted sk-toggleable\"><input class=\"sk-toggleable__control sk-hidden--visually\" id=\"sk-estimator-id-1\" type=\"checkbox\" checked><label for=\"sk-estimator-id-1\" class=\"sk-toggleable__label fitted sk-toggleable__label-arrow\"><div><div>MinMaxScaler</div></div><div><a class=\"sk-estimator-doc-link fitted\" rel=\"noreferrer\" target=\"_blank\" href=\"https://scikit-learn.org/1.6/modules/generated/sklearn.preprocessing.MinMaxScaler.html\">?<span>Documentation for MinMaxScaler</span></a><span class=\"sk-estimator-doc-link fitted\">i<span>Fitted</span></span></div></label><div class=\"sk-toggleable__content fitted\"><pre>MinMaxScaler()</pre></div> </div></div></div></div>"
      ],
      "text/plain": [
       "MinMaxScaler()"
      ]
     },
     "execution_count": 70,
     "metadata": {},
     "output_type": "execute_result"
    }
   ],
   "source": [
    "scaler.fit(X_train[['baths','bedrooms','Area_in_Marla'\n",
    "                ]])"
   ]
  },
  {
   "cell_type": "code",
   "execution_count": 71,
   "id": "a158fa96-291d-4565-98df-e1afdb84c728",
   "metadata": {},
   "outputs": [],
   "source": [
    "X_train[['baths','bedrooms','Area_in_Marla']] = scaler.transform(X_train[['baths','bedrooms','Area_in_Marla']])"
   ]
  },
  {
   "cell_type": "code",
   "execution_count": 72,
   "id": "31cb473e-6154-40da-96e1-8f564931620c",
   "metadata": {},
   "outputs": [],
   "source": [
    "X_test[['baths','bedrooms','Area_in_Marla']] = scaler.transform(X_test[['baths','bedrooms','Area_in_Marla']])"
   ]
  },
  {
   "cell_type": "code",
   "execution_count": 73,
   "id": "d8167070-36cc-455f-8da2-53ff3b7029a4",
   "metadata": {},
   "outputs": [
    {
     "data": {
      "text/html": [
       "<style>#sk-container-id-2 {\n",
       "  /* Definition of color scheme common for light and dark mode */\n",
       "  --sklearn-color-text: #000;\n",
       "  --sklearn-color-text-muted: #666;\n",
       "  --sklearn-color-line: gray;\n",
       "  /* Definition of color scheme for unfitted estimators */\n",
       "  --sklearn-color-unfitted-level-0: #fff5e6;\n",
       "  --sklearn-color-unfitted-level-1: #f6e4d2;\n",
       "  --sklearn-color-unfitted-level-2: #ffe0b3;\n",
       "  --sklearn-color-unfitted-level-3: chocolate;\n",
       "  /* Definition of color scheme for fitted estimators */\n",
       "  --sklearn-color-fitted-level-0: #f0f8ff;\n",
       "  --sklearn-color-fitted-level-1: #d4ebff;\n",
       "  --sklearn-color-fitted-level-2: #b3dbfd;\n",
       "  --sklearn-color-fitted-level-3: cornflowerblue;\n",
       "\n",
       "  /* Specific color for light theme */\n",
       "  --sklearn-color-text-on-default-background: var(--sg-text-color, var(--theme-code-foreground, var(--jp-content-font-color1, black)));\n",
       "  --sklearn-color-background: var(--sg-background-color, var(--theme-background, var(--jp-layout-color0, white)));\n",
       "  --sklearn-color-border-box: var(--sg-text-color, var(--theme-code-foreground, var(--jp-content-font-color1, black)));\n",
       "  --sklearn-color-icon: #696969;\n",
       "\n",
       "  @media (prefers-color-scheme: dark) {\n",
       "    /* Redefinition of color scheme for dark theme */\n",
       "    --sklearn-color-text-on-default-background: var(--sg-text-color, var(--theme-code-foreground, var(--jp-content-font-color1, white)));\n",
       "    --sklearn-color-background: var(--sg-background-color, var(--theme-background, var(--jp-layout-color0, #111)));\n",
       "    --sklearn-color-border-box: var(--sg-text-color, var(--theme-code-foreground, var(--jp-content-font-color1, white)));\n",
       "    --sklearn-color-icon: #878787;\n",
       "  }\n",
       "}\n",
       "\n",
       "#sk-container-id-2 {\n",
       "  color: var(--sklearn-color-text);\n",
       "}\n",
       "\n",
       "#sk-container-id-2 pre {\n",
       "  padding: 0;\n",
       "}\n",
       "\n",
       "#sk-container-id-2 input.sk-hidden--visually {\n",
       "  border: 0;\n",
       "  clip: rect(1px 1px 1px 1px);\n",
       "  clip: rect(1px, 1px, 1px, 1px);\n",
       "  height: 1px;\n",
       "  margin: -1px;\n",
       "  overflow: hidden;\n",
       "  padding: 0;\n",
       "  position: absolute;\n",
       "  width: 1px;\n",
       "}\n",
       "\n",
       "#sk-container-id-2 div.sk-dashed-wrapped {\n",
       "  border: 1px dashed var(--sklearn-color-line);\n",
       "  margin: 0 0.4em 0.5em 0.4em;\n",
       "  box-sizing: border-box;\n",
       "  padding-bottom: 0.4em;\n",
       "  background-color: var(--sklearn-color-background);\n",
       "}\n",
       "\n",
       "#sk-container-id-2 div.sk-container {\n",
       "  /* jupyter's `normalize.less` sets `[hidden] { display: none; }`\n",
       "     but bootstrap.min.css set `[hidden] { display: none !important; }`\n",
       "     so we also need the `!important` here to be able to override the\n",
       "     default hidden behavior on the sphinx rendered scikit-learn.org.\n",
       "     See: https://github.com/scikit-learn/scikit-learn/issues/21755 */\n",
       "  display: inline-block !important;\n",
       "  position: relative;\n",
       "}\n",
       "\n",
       "#sk-container-id-2 div.sk-text-repr-fallback {\n",
       "  display: none;\n",
       "}\n",
       "\n",
       "div.sk-parallel-item,\n",
       "div.sk-serial,\n",
       "div.sk-item {\n",
       "  /* draw centered vertical line to link estimators */\n",
       "  background-image: linear-gradient(var(--sklearn-color-text-on-default-background), var(--sklearn-color-text-on-default-background));\n",
       "  background-size: 2px 100%;\n",
       "  background-repeat: no-repeat;\n",
       "  background-position: center center;\n",
       "}\n",
       "\n",
       "/* Parallel-specific style estimator block */\n",
       "\n",
       "#sk-container-id-2 div.sk-parallel-item::after {\n",
       "  content: \"\";\n",
       "  width: 100%;\n",
       "  border-bottom: 2px solid var(--sklearn-color-text-on-default-background);\n",
       "  flex-grow: 1;\n",
       "}\n",
       "\n",
       "#sk-container-id-2 div.sk-parallel {\n",
       "  display: flex;\n",
       "  align-items: stretch;\n",
       "  justify-content: center;\n",
       "  background-color: var(--sklearn-color-background);\n",
       "  position: relative;\n",
       "}\n",
       "\n",
       "#sk-container-id-2 div.sk-parallel-item {\n",
       "  display: flex;\n",
       "  flex-direction: column;\n",
       "}\n",
       "\n",
       "#sk-container-id-2 div.sk-parallel-item:first-child::after {\n",
       "  align-self: flex-end;\n",
       "  width: 50%;\n",
       "}\n",
       "\n",
       "#sk-container-id-2 div.sk-parallel-item:last-child::after {\n",
       "  align-self: flex-start;\n",
       "  width: 50%;\n",
       "}\n",
       "\n",
       "#sk-container-id-2 div.sk-parallel-item:only-child::after {\n",
       "  width: 0;\n",
       "}\n",
       "\n",
       "/* Serial-specific style estimator block */\n",
       "\n",
       "#sk-container-id-2 div.sk-serial {\n",
       "  display: flex;\n",
       "  flex-direction: column;\n",
       "  align-items: center;\n",
       "  background-color: var(--sklearn-color-background);\n",
       "  padding-right: 1em;\n",
       "  padding-left: 1em;\n",
       "}\n",
       "\n",
       "\n",
       "/* Toggleable style: style used for estimator/Pipeline/ColumnTransformer box that is\n",
       "clickable and can be expanded/collapsed.\n",
       "- Pipeline and ColumnTransformer use this feature and define the default style\n",
       "- Estimators will overwrite some part of the style using the `sk-estimator` class\n",
       "*/\n",
       "\n",
       "/* Pipeline and ColumnTransformer style (default) */\n",
       "\n",
       "#sk-container-id-2 div.sk-toggleable {\n",
       "  /* Default theme specific background. It is overwritten whether we have a\n",
       "  specific estimator or a Pipeline/ColumnTransformer */\n",
       "  background-color: var(--sklearn-color-background);\n",
       "}\n",
       "\n",
       "/* Toggleable label */\n",
       "#sk-container-id-2 label.sk-toggleable__label {\n",
       "  cursor: pointer;\n",
       "  display: flex;\n",
       "  width: 100%;\n",
       "  margin-bottom: 0;\n",
       "  padding: 0.5em;\n",
       "  box-sizing: border-box;\n",
       "  text-align: center;\n",
       "  align-items: start;\n",
       "  justify-content: space-between;\n",
       "  gap: 0.5em;\n",
       "}\n",
       "\n",
       "#sk-container-id-2 label.sk-toggleable__label .caption {\n",
       "  font-size: 0.6rem;\n",
       "  font-weight: lighter;\n",
       "  color: var(--sklearn-color-text-muted);\n",
       "}\n",
       "\n",
       "#sk-container-id-2 label.sk-toggleable__label-arrow:before {\n",
       "  /* Arrow on the left of the label */\n",
       "  content: \"▸\";\n",
       "  float: left;\n",
       "  margin-right: 0.25em;\n",
       "  color: var(--sklearn-color-icon);\n",
       "}\n",
       "\n",
       "#sk-container-id-2 label.sk-toggleable__label-arrow:hover:before {\n",
       "  color: var(--sklearn-color-text);\n",
       "}\n",
       "\n",
       "/* Toggleable content - dropdown */\n",
       "\n",
       "#sk-container-id-2 div.sk-toggleable__content {\n",
       "  max-height: 0;\n",
       "  max-width: 0;\n",
       "  overflow: hidden;\n",
       "  text-align: left;\n",
       "  /* unfitted */\n",
       "  background-color: var(--sklearn-color-unfitted-level-0);\n",
       "}\n",
       "\n",
       "#sk-container-id-2 div.sk-toggleable__content.fitted {\n",
       "  /* fitted */\n",
       "  background-color: var(--sklearn-color-fitted-level-0);\n",
       "}\n",
       "\n",
       "#sk-container-id-2 div.sk-toggleable__content pre {\n",
       "  margin: 0.2em;\n",
       "  border-radius: 0.25em;\n",
       "  color: var(--sklearn-color-text);\n",
       "  /* unfitted */\n",
       "  background-color: var(--sklearn-color-unfitted-level-0);\n",
       "}\n",
       "\n",
       "#sk-container-id-2 div.sk-toggleable__content.fitted pre {\n",
       "  /* unfitted */\n",
       "  background-color: var(--sklearn-color-fitted-level-0);\n",
       "}\n",
       "\n",
       "#sk-container-id-2 input.sk-toggleable__control:checked~div.sk-toggleable__content {\n",
       "  /* Expand drop-down */\n",
       "  max-height: 200px;\n",
       "  max-width: 100%;\n",
       "  overflow: auto;\n",
       "}\n",
       "\n",
       "#sk-container-id-2 input.sk-toggleable__control:checked~label.sk-toggleable__label-arrow:before {\n",
       "  content: \"▾\";\n",
       "}\n",
       "\n",
       "/* Pipeline/ColumnTransformer-specific style */\n",
       "\n",
       "#sk-container-id-2 div.sk-label input.sk-toggleable__control:checked~label.sk-toggleable__label {\n",
       "  color: var(--sklearn-color-text);\n",
       "  background-color: var(--sklearn-color-unfitted-level-2);\n",
       "}\n",
       "\n",
       "#sk-container-id-2 div.sk-label.fitted input.sk-toggleable__control:checked~label.sk-toggleable__label {\n",
       "  background-color: var(--sklearn-color-fitted-level-2);\n",
       "}\n",
       "\n",
       "/* Estimator-specific style */\n",
       "\n",
       "/* Colorize estimator box */\n",
       "#sk-container-id-2 div.sk-estimator input.sk-toggleable__control:checked~label.sk-toggleable__label {\n",
       "  /* unfitted */\n",
       "  background-color: var(--sklearn-color-unfitted-level-2);\n",
       "}\n",
       "\n",
       "#sk-container-id-2 div.sk-estimator.fitted input.sk-toggleable__control:checked~label.sk-toggleable__label {\n",
       "  /* fitted */\n",
       "  background-color: var(--sklearn-color-fitted-level-2);\n",
       "}\n",
       "\n",
       "#sk-container-id-2 div.sk-label label.sk-toggleable__label,\n",
       "#sk-container-id-2 div.sk-label label {\n",
       "  /* The background is the default theme color */\n",
       "  color: var(--sklearn-color-text-on-default-background);\n",
       "}\n",
       "\n",
       "/* On hover, darken the color of the background */\n",
       "#sk-container-id-2 div.sk-label:hover label.sk-toggleable__label {\n",
       "  color: var(--sklearn-color-text);\n",
       "  background-color: var(--sklearn-color-unfitted-level-2);\n",
       "}\n",
       "\n",
       "/* Label box, darken color on hover, fitted */\n",
       "#sk-container-id-2 div.sk-label.fitted:hover label.sk-toggleable__label.fitted {\n",
       "  color: var(--sklearn-color-text);\n",
       "  background-color: var(--sklearn-color-fitted-level-2);\n",
       "}\n",
       "\n",
       "/* Estimator label */\n",
       "\n",
       "#sk-container-id-2 div.sk-label label {\n",
       "  font-family: monospace;\n",
       "  font-weight: bold;\n",
       "  display: inline-block;\n",
       "  line-height: 1.2em;\n",
       "}\n",
       "\n",
       "#sk-container-id-2 div.sk-label-container {\n",
       "  text-align: center;\n",
       "}\n",
       "\n",
       "/* Estimator-specific */\n",
       "#sk-container-id-2 div.sk-estimator {\n",
       "  font-family: monospace;\n",
       "  border: 1px dotted var(--sklearn-color-border-box);\n",
       "  border-radius: 0.25em;\n",
       "  box-sizing: border-box;\n",
       "  margin-bottom: 0.5em;\n",
       "  /* unfitted */\n",
       "  background-color: var(--sklearn-color-unfitted-level-0);\n",
       "}\n",
       "\n",
       "#sk-container-id-2 div.sk-estimator.fitted {\n",
       "  /* fitted */\n",
       "  background-color: var(--sklearn-color-fitted-level-0);\n",
       "}\n",
       "\n",
       "/* on hover */\n",
       "#sk-container-id-2 div.sk-estimator:hover {\n",
       "  /* unfitted */\n",
       "  background-color: var(--sklearn-color-unfitted-level-2);\n",
       "}\n",
       "\n",
       "#sk-container-id-2 div.sk-estimator.fitted:hover {\n",
       "  /* fitted */\n",
       "  background-color: var(--sklearn-color-fitted-level-2);\n",
       "}\n",
       "\n",
       "/* Specification for estimator info (e.g. \"i\" and \"?\") */\n",
       "\n",
       "/* Common style for \"i\" and \"?\" */\n",
       "\n",
       ".sk-estimator-doc-link,\n",
       "a:link.sk-estimator-doc-link,\n",
       "a:visited.sk-estimator-doc-link {\n",
       "  float: right;\n",
       "  font-size: smaller;\n",
       "  line-height: 1em;\n",
       "  font-family: monospace;\n",
       "  background-color: var(--sklearn-color-background);\n",
       "  border-radius: 1em;\n",
       "  height: 1em;\n",
       "  width: 1em;\n",
       "  text-decoration: none !important;\n",
       "  margin-left: 0.5em;\n",
       "  text-align: center;\n",
       "  /* unfitted */\n",
       "  border: var(--sklearn-color-unfitted-level-1) 1pt solid;\n",
       "  color: var(--sklearn-color-unfitted-level-1);\n",
       "}\n",
       "\n",
       ".sk-estimator-doc-link.fitted,\n",
       "a:link.sk-estimator-doc-link.fitted,\n",
       "a:visited.sk-estimator-doc-link.fitted {\n",
       "  /* fitted */\n",
       "  border: var(--sklearn-color-fitted-level-1) 1pt solid;\n",
       "  color: var(--sklearn-color-fitted-level-1);\n",
       "}\n",
       "\n",
       "/* On hover */\n",
       "div.sk-estimator:hover .sk-estimator-doc-link:hover,\n",
       ".sk-estimator-doc-link:hover,\n",
       "div.sk-label-container:hover .sk-estimator-doc-link:hover,\n",
       ".sk-estimator-doc-link:hover {\n",
       "  /* unfitted */\n",
       "  background-color: var(--sklearn-color-unfitted-level-3);\n",
       "  color: var(--sklearn-color-background);\n",
       "  text-decoration: none;\n",
       "}\n",
       "\n",
       "div.sk-estimator.fitted:hover .sk-estimator-doc-link.fitted:hover,\n",
       ".sk-estimator-doc-link.fitted:hover,\n",
       "div.sk-label-container:hover .sk-estimator-doc-link.fitted:hover,\n",
       ".sk-estimator-doc-link.fitted:hover {\n",
       "  /* fitted */\n",
       "  background-color: var(--sklearn-color-fitted-level-3);\n",
       "  color: var(--sklearn-color-background);\n",
       "  text-decoration: none;\n",
       "}\n",
       "\n",
       "/* Span, style for the box shown on hovering the info icon */\n",
       ".sk-estimator-doc-link span {\n",
       "  display: none;\n",
       "  z-index: 9999;\n",
       "  position: relative;\n",
       "  font-weight: normal;\n",
       "  right: .2ex;\n",
       "  padding: .5ex;\n",
       "  margin: .5ex;\n",
       "  width: min-content;\n",
       "  min-width: 20ex;\n",
       "  max-width: 50ex;\n",
       "  color: var(--sklearn-color-text);\n",
       "  box-shadow: 2pt 2pt 4pt #999;\n",
       "  /* unfitted */\n",
       "  background: var(--sklearn-color-unfitted-level-0);\n",
       "  border: .5pt solid var(--sklearn-color-unfitted-level-3);\n",
       "}\n",
       "\n",
       ".sk-estimator-doc-link.fitted span {\n",
       "  /* fitted */\n",
       "  background: var(--sklearn-color-fitted-level-0);\n",
       "  border: var(--sklearn-color-fitted-level-3);\n",
       "}\n",
       "\n",
       ".sk-estimator-doc-link:hover span {\n",
       "  display: block;\n",
       "}\n",
       "\n",
       "/* \"?\"-specific style due to the `<a>` HTML tag */\n",
       "\n",
       "#sk-container-id-2 a.estimator_doc_link {\n",
       "  float: right;\n",
       "  font-size: 1rem;\n",
       "  line-height: 1em;\n",
       "  font-family: monospace;\n",
       "  background-color: var(--sklearn-color-background);\n",
       "  border-radius: 1rem;\n",
       "  height: 1rem;\n",
       "  width: 1rem;\n",
       "  text-decoration: none;\n",
       "  /* unfitted */\n",
       "  color: var(--sklearn-color-unfitted-level-1);\n",
       "  border: var(--sklearn-color-unfitted-level-1) 1pt solid;\n",
       "}\n",
       "\n",
       "#sk-container-id-2 a.estimator_doc_link.fitted {\n",
       "  /* fitted */\n",
       "  border: var(--sklearn-color-fitted-level-1) 1pt solid;\n",
       "  color: var(--sklearn-color-fitted-level-1);\n",
       "}\n",
       "\n",
       "/* On hover */\n",
       "#sk-container-id-2 a.estimator_doc_link:hover {\n",
       "  /* unfitted */\n",
       "  background-color: var(--sklearn-color-unfitted-level-3);\n",
       "  color: var(--sklearn-color-background);\n",
       "  text-decoration: none;\n",
       "}\n",
       "\n",
       "#sk-container-id-2 a.estimator_doc_link.fitted:hover {\n",
       "  /* fitted */\n",
       "  background-color: var(--sklearn-color-fitted-level-3);\n",
       "}\n",
       "</style><div id=\"sk-container-id-2\" class=\"sk-top-container\"><div class=\"sk-text-repr-fallback\"><pre>XGBRegressor(base_score=None, booster=None, callbacks=None,\n",
       "             colsample_bylevel=None, colsample_bynode=None,\n",
       "             colsample_bytree=None, device=None, early_stopping_rounds=None,\n",
       "             enable_categorical=False, eval_metric=None, feature_types=None,\n",
       "             feature_weights=None, gamma=None, grow_policy=None,\n",
       "             importance_type=None, interaction_constraints=None,\n",
       "             learning_rate=0.1, max_bin=None, max_cat_threshold=None,\n",
       "             max_cat_to_onehot=None, max_delta_step=None, max_depth=None,\n",
       "             max_leaves=None, min_child_weight=None, missing=nan,\n",
       "             monotone_constraints=None, multi_strategy=None, n_estimators=100,\n",
       "             n_jobs=-1, num_parallel_tree=None, ...)</pre><b>In a Jupyter environment, please rerun this cell to show the HTML representation or trust the notebook. <br />On GitHub, the HTML representation is unable to render, please try loading this page with nbviewer.org.</b></div><div class=\"sk-container\" hidden><div class=\"sk-item\"><div class=\"sk-estimator fitted sk-toggleable\"><input class=\"sk-toggleable__control sk-hidden--visually\" id=\"sk-estimator-id-2\" type=\"checkbox\" checked><label for=\"sk-estimator-id-2\" class=\"sk-toggleable__label fitted sk-toggleable__label-arrow\"><div><div>XGBRegressor</div></div><div><a class=\"sk-estimator-doc-link fitted\" rel=\"noreferrer\" target=\"_blank\" href=\"https://xgboost.readthedocs.io/en/release_3.0.0/python/python_api.html#xgboost.XGBRegressor\">?<span>Documentation for XGBRegressor</span></a><span class=\"sk-estimator-doc-link fitted\">i<span>Fitted</span></span></div></label><div class=\"sk-toggleable__content fitted\"><pre>XGBRegressor(base_score=None, booster=None, callbacks=None,\n",
       "             colsample_bylevel=None, colsample_bynode=None,\n",
       "             colsample_bytree=None, device=None, early_stopping_rounds=None,\n",
       "             enable_categorical=False, eval_metric=None, feature_types=None,\n",
       "             feature_weights=None, gamma=None, grow_policy=None,\n",
       "             importance_type=None, interaction_constraints=None,\n",
       "             learning_rate=0.1, max_bin=None, max_cat_threshold=None,\n",
       "             max_cat_to_onehot=None, max_delta_step=None, max_depth=None,\n",
       "             max_leaves=None, min_child_weight=None, missing=nan,\n",
       "             monotone_constraints=None, multi_strategy=None, n_estimators=100,\n",
       "             n_jobs=-1, num_parallel_tree=None, ...)</pre></div> </div></div></div></div>"
      ],
      "text/plain": [
       "XGBRegressor(base_score=None, booster=None, callbacks=None,\n",
       "             colsample_bylevel=None, colsample_bynode=None,\n",
       "             colsample_bytree=None, device=None, early_stopping_rounds=None,\n",
       "             enable_categorical=False, eval_metric=None, feature_types=None,\n",
       "             feature_weights=None, gamma=None, grow_policy=None,\n",
       "             importance_type=None, interaction_constraints=None,\n",
       "             learning_rate=0.1, max_bin=None, max_cat_threshold=None,\n",
       "             max_cat_to_onehot=None, max_delta_step=None, max_depth=None,\n",
       "             max_leaves=None, min_child_weight=None, missing=nan,\n",
       "             monotone_constraints=None, multi_strategy=None, n_estimators=100,\n",
       "             n_jobs=-1, num_parallel_tree=None, ...)"
      ]
     },
     "execution_count": 73,
     "metadata": {},
     "output_type": "execute_result"
    }
   ],
   "source": [
    "import xgboost as xgb\n",
    "\n",
    "# Create and train the model\n",
    "model = xgb.XGBRegressor(objective='reg:squarederror', n_estimators=100, learning_rate=0.1,random_state = 42,n_jobs = -1)\n",
    "model.fit(X_train, y_train)"
   ]
  },
  {
   "cell_type": "code",
   "execution_count": 74,
   "id": "bfff8a38-2dce-4f2a-8903-05d172baadd1",
   "metadata": {},
   "outputs": [
    {
     "name": "stdout",
     "output_type": "stream",
     "text": [
      "MAE: 2880154.25\n",
      "MSE: 17517290455040.0\n",
      "R²: 0.818515956401825\n"
     ]
    }
   ],
   "source": [
    "from sklearn.metrics import mean_absolute_error, mean_squared_error, r2_score\n",
    "\n",
    "# Make predictions\n",
    "y_pred = model.predict(X_test)\n",
    "\n",
    "# Evaluate the model\n",
    "mae = mean_absolute_error(y_test, y_pred)\n",
    "mse = mean_squared_error(y_test, y_pred)\n",
    "r2 = r2_score(y_test, y_pred)\n",
    "\n",
    "print(f\"MAE: {mae}\")\n",
    "print(f\"MSE: {mse}\")\n",
    "print(f\"R²: {r2}\")\n"
   ]
  },
  {
   "cell_type": "code",
   "execution_count": null,
   "id": "e2b1d132-8fc4-41b8-bacd-94564516736d",
   "metadata": {},
   "outputs": [],
   "source": [
    "\n",
    "from sklearn.model_selection import GridSearchCV\n",
    "\n",
    "# Set up the parameter grid\n",
    "param_grid = {\n",
    "    'learning_rate': [0.01, 0.05, 0.1],\n",
    "    'n_estimators': [100, 200],\n",
    "    'max_depth': [3, 5, 7],\n",
    "    'subsample': [0.8, 1]\n",
    "}\n",
    "\n",
    "grid_search = GridSearchCV(estimator=xgb.XGBRegressor(objective='reg:squarederror'), \n",
    "                           param_grid=param_grid, \n",
    "                           scoring='neg_mean_absolute_error', \n",
    "                           cv=3)\n",
    "\n",
    "# Fit grid search\n",
    "grid_search.fit(X_train, y_train)\n",
    "\n",
    "# Best parameters from grid search\n",
    "print(\"Best parameters:\", grid_search.best_params_)"
   ]
  },
  {
   "cell_type": "code",
   "execution_count": null,
   "id": "79b39a93-9388-4353-9b17-4d209d69a60c",
   "metadata": {},
   "outputs": [],
   "source": [
    "from sklearn.linear_model import LinearRegression,Lasso,Ridge,ElasticNet\n",
    "from sklearn.ensemble import RandomForestRegressor\n",
    "from sklearn.tree import DecisionTreeRegressor\n",
    "from xgboost import XGBRegressor\n",
    "from sklearn.neighbors import KNeighborsRegressor\n",
    "from sklearn.ensemble import GradientBoostingRegressor, AdaBoostRegressor\n",
    "from catboost import CatBoostRegressor\n",
    "\n",
    "\n",
    "\n",
    "lr  = LinearRegression()\n",
    "knn = KNeighborsRegressor(n_neighbors=8)\n",
    "dt  = DecisionTreeRegressor(max_depth = 5)\n",
    "rf  = RandomForestRegressor(n_estimators=100, max_features= 7)\n",
    "ada = AdaBoostRegressor( n_estimators=150, learning_rate =.08)\n",
    "gbr = GradientBoostingRegressor(max_depth=7, n_estimators=500, learning_rate =.05)\n",
    "xgb = XGBRegressor(max_depth = 7, n_estimators=500, learning_rate =.05)\n",
    "cb  = CatBoostRegressor(learning_rate =.07, max_depth =7, verbose=0)\n",
    "\n",
    "regressors = [('Linear Regression', lr), ('K Nearest Neighbours', knn),('Decision Tree', dt), ('Random Forest', rf), \n",
    "              ('AdaBoost', ada),('Gradient Boosting Regressor', gbr),('XGBRegressor', xgb),('CatBoostRegressor', cb)]\n",
    "\n",
    "from sklearn.metrics import r2_score, mean_squared_error, mean_absolute_error\n",
    "\n",
    "for regressor_name, regressor in regressors:\n",
    "\n",
    "    regressor.fit(X_train, y_train)    \n",
    "  \n",
    "    y_pred = regressor.predict(X_test)\n",
    "    accuracy = round(r2_score(y_test,y_pred),3)*100\n",
    "    \n",
    "    print('{:s} : {:.0f} %'.format(regressor_name, accuracy))\n",
    "    plt.rcParams[\"figure.figsize\"] = (20,8)\n",
    "    plt.bar(regressor_name,accuracy)"
   ]
  },
  {
   "cell_type": "code",
   "execution_count": 75,
   "id": "2d827ee8-d3ba-446a-a476-8676216990c1",
   "metadata": {},
   "outputs": [],
   "source": [
    "from catboost import CatBoostRegressor\n",
    "model1 = CatBoostRegressor(learning_rate =.07, max_depth =7, verbose=0)"
   ]
  },
  {
   "cell_type": "code",
   "execution_count": null,
   "id": "a5300029-5937-44f3-812d-2da7ee6fcc39",
   "metadata": {},
   "outputs": [],
   "source": [
    "model1.fit(X_train,y_train)"
   ]
  },
  {
   "cell_type": "code",
   "execution_count": null,
   "id": "f6b52ea9-1c0e-4611-8284-345b3a23c2d8",
   "metadata": {},
   "outputs": [],
   "source": [
    "y_pred = model1.predict(X_test)"
   ]
  },
  {
   "cell_type": "code",
   "execution_count": null,
   "id": "95a63f13-beee-477c-9e99-150d2dd1c5d6",
   "metadata": {},
   "outputs": [],
   "source": [
    "from sklearn.metrics import mean_absolute_error,r2_score\n",
    "print(r2_score(y_test,y_pred))\n",
    "print(mean_absolute_error(y_test,y_pred))"
   ]
  },
  {
   "cell_type": "code",
   "execution_count": null,
   "id": "f87a551d-8901-4960-ac2b-b6a541e65800",
   "metadata": {},
   "outputs": [],
   "source": []
  },
  {
   "cell_type": "code",
   "execution_count": null,
   "id": "345edb6f-8138-4508-aaee-ee558c305456",
   "metadata": {},
   "outputs": [],
   "source": [
    "import pickle \n",
    "pickle.dump(model1,open('xgb.pkl','wb'))"
   ]
  },
  {
   "cell_type": "code",
   "execution_count": null,
   "id": "3e70dad9-740b-490d-bc9a-3219d1ff3785",
   "metadata": {},
   "outputs": [],
   "source": [
    "import pickle\n",
    "pickle.dump(ohe,open('ohe.pkl','wb'))"
   ]
  },
  {
   "cell_type": "code",
   "execution_count": null,
   "id": "949f2983-9ed5-44e6-afaa-d6123c3c0199",
   "metadata": {},
   "outputs": [],
   "source": [
    "import pickle\n",
    "pickle.dump(scaler,open('scaler.pkl','wb'))"
   ]
  },
  {
   "cell_type": "code",
   "execution_count": null,
   "id": "2d70fcde-9185-446c-b381-6aef8e1f5615",
   "metadata": {},
   "outputs": [],
   "source": [
    "X_train.columns"
   ]
  },
  {
   "cell_type": "code",
   "execution_count": null,
   "id": "017e0c06-2d58-45e0-abcf-be6100ff69d4",
   "metadata": {},
   "outputs": [],
   "source": [
    "import pickle \n",
    "pickle.dump(X_train.columns,open(\"feature_names.pkl\",\"wb\"))"
   ]
  },
  {
   "cell_type": "code",
   "execution_count": null,
   "id": "092aacf1-9239-41b5-874a-9df9a9c41f96",
   "metadata": {},
   "outputs": [],
   "source": [
    "df[df['city'] == 'Islamabad']['location'].unique()"
   ]
  },
  {
   "cell_type": "code",
   "execution_count": null,
   "id": "a59e216e-9385-4287-9b12-1eddc3bf42ee",
   "metadata": {},
   "outputs": [],
   "source": [
    "X_train.head()"
   ]
  },
  {
   "cell_type": "code",
   "execution_count": null,
   "id": "6f3dbdd7-4984-40af-83f1-2623603ce14d",
   "metadata": {},
   "outputs": [],
   "source": []
  }
 ],
 "metadata": {
  "kernelspec": {
   "display_name": "Python 3 (ipykernel)",
   "language": "python",
   "name": "python3"
  },
  "language_info": {
   "codemirror_mode": {
    "name": "ipython",
    "version": 3
   },
   "file_extension": ".py",
   "mimetype": "text/x-python",
   "name": "python",
   "nbconvert_exporter": "python",
   "pygments_lexer": "ipython3",
   "version": "3.10.11"
  }
 },
 "nbformat": 4,
 "nbformat_minor": 5
}
